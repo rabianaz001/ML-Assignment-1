{
 "cells": [
  {
   "cell_type": "markdown",
   "id": "98077dd3-a2c4-48b2-b0da-7ccfba14e82c",
   "metadata": {},
   "source": [
    "Question 1: Define Artificial Intelligence (AI)."
   ]
  },
  {
   "cell_type": "markdown",
   "id": "b960843a-3a50-43b8-bd45-f0351512c019",
   "metadata": {},
   "source": [
    "AI is the simulation of human intelligence in machines that are programmed to think like humans and mimic their actions. These machines can learn from experience, adjust to new inputs, and perform tasks that typically require human intelligence, such as visual perception, speech recognition, decision-making, and language translation."
   ]
  },
  {
   "cell_type": "code",
   "execution_count": null,
   "id": "5da74bda-8674-4d71-a68f-268d15033f96",
   "metadata": {},
   "outputs": [],
   "source": []
  },
  {
   "cell_type": "markdown",
   "id": "dae0a890-cdd2-46de-a7ca-e968be4563fb",
   "metadata": {},
   "source": [
    "Question 2: Explain the differences between Artificial Intelligence (AI), Machine Learning (ML), Deep Learning (DL), and Data Science (DS).\n"
   ]
  },
  {
   "cell_type": "markdown",
   "id": "9f7e36fb-c83b-46fb-8973-ceaffc29c6ac",
   "metadata": {},
   "source": [
    "Artificial Intelligence (AI): The broad field of creating intelligent machines capable of performing tasks that require human intelligence.\n",
    "Machine Learning (ML): A subset of AI that involves training algorithms to learn from and make predictions or decisions based on data.\n",
    "Deep Learning (DL): A subset of ML that uses neural networks with many layers (deep neural networks) to analyze various factors of data.\n",
    "Data Science (DS): An interdisciplinary field that uses scientific methods, processes, algorithms, and systems to extract knowledge and insights from structured and unstructured data.\n"
   ]
  },
  {
   "cell_type": "code",
   "execution_count": 233,
   "id": "5c9cde11-7f1b-4a2c-9699-96be78e67ec8",
   "metadata": {},
   "outputs": [
    {
     "name": "stdout",
     "output_type": "stream",
     "text": [
      "Accuracy of K-Nearest Neighbors on test set: 1.0\n"
     ]
    }
   ],
   "source": [
    "from sklearn.datasets import load_iris\n",
    "from sklearn.model_selection import train_test_split\n",
    "from sklearn.neighbors import KNeighborsClassifier\n",
    "\n",
    "# Load iris dataset\n",
    "iris = load_iris()\n",
    "X, y = iris.data, iris.target\n",
    "\n",
    "# Split data into training and testing sets\n",
    "X_train, X_test, y_train, y_test = train_test_split(X, y, test_size=0.2, random_state=42)\n",
    "\n",
    "# Initialize K-Nearest Neighbors classifier\n",
    "knn = KNeighborsClassifier()\n",
    "\n",
    "# Train the model on the training set\n",
    "knn.fit(X_train, y_train)\n",
    "\n",
    "# Evaluate the model on the test set\n",
    "accuracy = knn.score(X_test, y_test)\n",
    "print(f\"Accuracy of K-Nearest Neighbors on test set: {accuracy}\")\n"
   ]
  },
  {
   "cell_type": "code",
   "execution_count": null,
   "id": "964259b4-b5a3-475c-b784-d7cf172700aa",
   "metadata": {},
   "outputs": [],
   "source": []
  },
  {
   "cell_type": "markdown",
   "id": "8cf121a7-c830-48fc-929f-76df1b4b9ca8",
   "metadata": {},
   "source": [
    "Question 3: How does AI differ from traditional software development?"
   ]
  },
  {
   "cell_type": "markdown",
   "id": "e8852126-2845-4fdf-8207-0352a8a1f0b4",
   "metadata": {},
   "source": [
    "Traditional software development relies on explicit programming with predefined rules. AI systems learn from data, adapting to new situations without being explicitly programmed for each scenario."
   ]
  },
  {
   "cell_type": "code",
   "execution_count": 231,
   "id": "2c068a36-1e27-45ee-acaa-4da44e0b06b9",
   "metadata": {},
   "outputs": [
    {
     "name": "stdout",
     "output_type": "stream",
     "text": [
      "Prediction using Decision Tree classifier: [1]\n"
     ]
    }
   ],
   "source": [
    "from sklearn.tree import DecisionTreeClassifier\n",
    "\n",
    "# Example dataset\n",
    "X = [[0, 0], [1, 1]]\n",
    "y = [0, 1]\n",
    "\n",
    "# Initialize Decision Tree classifier\n",
    "clf = DecisionTreeClassifier()\n",
    "\n",
    "# Train the classifier on the dataset\n",
    "clf.fit(X, y)\n",
    "\n",
    "# Predict using the trained classifier\n",
    "prediction = clf.predict([[2., 2.]])\n",
    "print(f\"Prediction using Decision Tree classifier: {prediction}\")\n"
   ]
  },
  {
   "cell_type": "code",
   "execution_count": null,
   "id": "02821b2d-f4ea-4b6d-9a12-26d5c0bdc17f",
   "metadata": {},
   "outputs": [],
   "source": []
  },
  {
   "cell_type": "markdown",
   "id": "05bac734-9de5-4109-b0dc-6d50e2100985",
   "metadata": {},
   "source": [
    "Question 4: Provide examples of AI, ML, DL, and DS applications."
   ]
  },
  {
   "cell_type": "markdown",
   "id": "e5580a71-5661-4cd3-8368-d2a81977f656",
   "metadata": {},
   "source": [
    "AI: Chatbots, voice assistants (e.g., Siri, Alexa), autonomous vehicles.\n",
    "ML: Recommendation systems (e.g., Netflix, Amazon), spam email detection.\n",
    "DL: Image recognition (e.g., Google Photos), natural language processing (e.g., Google Translate).\n",
    "DS: Business intelligence (e.g., customer segmentation), predictive analytics (e.g., sales forecasting)."
   ]
  },
  {
   "cell_type": "code",
   "execution_count": null,
   "id": "05d47a5b-639e-4d2c-9e06-d651189500e2",
   "metadata": {},
   "outputs": [],
   "source": []
  },
  {
   "cell_type": "markdown",
   "id": "2ad72ebf-be9d-4a11-8fbb-927ec6cfb273",
   "metadata": {},
   "source": [
    "Question 5: Discuss the importance of AI, ML, DL, and DS in today's world."
   ]
  },
  {
   "cell_type": "markdown",
   "id": "3e4c88fe-c370-4322-944e-b3c6ba87bb97",
   "metadata": {},
   "source": [
    "These technologies drive innovation across various sectors by automating processes, providing insights through data analysis, enhancing customer experiences, and enabling new capabilities such as self-driving cars, personalized medicine, and advanced cybersecurity.\n",
    "\n"
   ]
  },
  {
   "cell_type": "code",
   "execution_count": 229,
   "id": "02fc7392-67f7-4a12-a827-9b4ec0076a25",
   "metadata": {},
   "outputs": [
    {
     "name": "stdout",
     "output_type": "stream",
     "text": [
      "Predicted price for a house with 5 rooms: 50.0\n"
     ]
    }
   ],
   "source": [
    "from sklearn.linear_model import LinearRegression\n",
    "from sklearn.metrics import mean_squared_error\n",
    "\n",
    "# Example dataset (housing prices)\n",
    "X = [[1], [2], [3], [4]]\n",
    "y = [10, 20, 30, 40]\n",
    "\n",
    "# Initialize Linear Regression model\n",
    "model = LinearRegression()\n",
    "\n",
    "# Train the model on the dataset\n",
    "model.fit(X, y)\n",
    "\n",
    "# Make predictions using the trained model\n",
    "predictions = model.predict([[5]])\n",
    "print(f\"Predicted price for a house with 5 rooms: {predictions[0]}\")\n"
   ]
  },
  {
   "cell_type": "markdown",
   "id": "7340537a-ae8a-415e-b647-09a0f6a997c8",
   "metadata": {},
   "source": [
    "Question 6: What is Supervised Learning?\n"
   ]
  },
  {
   "cell_type": "markdown",
   "id": "805ca76d-0487-4238-ab3c-0ed487e97f25",
   "metadata": {},
   "source": [
    "Supervised learning is a type of machine learning where the model is trained on labeled data. The algorithm learns the relationship between input features and the target variable, allowing it to make predictions on new, unseen data."
   ]
  },
  {
   "cell_type": "code",
   "execution_count": 227,
   "id": "d14515db-c19b-4170-8c14-55b6316b2d40",
   "metadata": {},
   "outputs": [
    {
     "name": "stdout",
     "output_type": "stream",
     "text": [
      "Predicted price for a house with 5 rooms: 50.0\n"
     ]
    }
   ],
   "source": [
    "from sklearn.linear_model import LinearRegression\n",
    "\n",
    "# Example dataset (housing prices)\n",
    "X = [[1], [2], [3], [4]]\n",
    "y = [10, 20, 30, 40]\n",
    "\n",
    "# Initialize Linear Regression model\n",
    "model = LinearRegression()\n",
    "\n",
    "# Train the model on the dataset\n",
    "model.fit(X, y)\n",
    "\n",
    "# Make predictions using the trained model\n",
    "predictions = model.predict([[5]])\n",
    "print(f\"Predicted price for a house with 5 rooms: {predictions[0]}\")\n"
   ]
  },
  {
   "cell_type": "code",
   "execution_count": null,
   "id": "561990f4-8ff8-40aa-b206-7d38658ac530",
   "metadata": {},
   "outputs": [],
   "source": []
  },
  {
   "cell_type": "markdown",
   "id": "d9a06d4e-7733-4fcf-9d6b-e74513c45cc2",
   "metadata": {},
   "source": [
    "Question 7: Provide examples of Supervised Learning algorithms."
   ]
  },
  {
   "cell_type": "markdown",
   "id": "93523cc3-1d76-4b10-a4f4-99fbf315ee11",
   "metadata": {},
   "source": [
    "Linear Regression\n",
    "Logistic Regression\n",
    "Decision Trees\n",
    "Support Vector Machines (SVM)\n",
    "Neural Networks"
   ]
  },
  {
   "cell_type": "code",
   "execution_count": null,
   "id": "26566a1a-247b-4b08-a140-d8dcc443ce80",
   "metadata": {},
   "outputs": [],
   "source": []
  },
  {
   "cell_type": "markdown",
   "id": "0b29d27a-91c7-40c5-8e0d-e9d6bf5611cf",
   "metadata": {},
   "source": [
    "Question 8: Explain the process of Supervised Learning."
   ]
  },
  {
   "cell_type": "markdown",
   "id": "94df4dfd-4f0b-44d1-b986-39f9adbbfe02",
   "metadata": {},
   "source": [
    "Collecting and labeling data\n",
    "Splitting the data into training and test sets\n",
    "Training the model on the training set\n",
    "Evaluating the model on the test set\n",
    "Fine-tuning the model to improve performance"
   ]
  },
  {
   "cell_type": "code",
   "execution_count": 10,
   "id": "77af5e67-0bed-4273-b597-4b730350b0cd",
   "metadata": {},
   "outputs": [
    {
     "name": "stdout",
     "output_type": "stream",
     "text": [
      "Accuracy: 0.65\n"
     ]
    }
   ],
   "source": [
    "import numpy as np\n",
    "import pandas as pd\n",
    "from sklearn.model_selection import train_test_split\n",
    "from sklearn.linear_model import LogisticRegression\n",
    "from sklearn.metrics import accuracy_score\n",
    "\n",
    "# Sample dataset\n",
    "data = pd.DataFrame({\n",
    "    'Feature1': np.random.rand(100),\n",
    "    'Feature2': np.random.rand(100),\n",
    "    'Target': np.random.randint(2, size=100)\n",
    "})\n",
    "\n",
    "# Splitting the data\n",
    "X = data[['Feature1', 'Feature2']]\n",
    "y = data['Target']\n",
    "X_train, X_test, y_train, y_test = train_test_split(X, y, test_size=0.2, random_state=42)\n",
    "\n",
    "# Training the model\n",
    "model = LogisticRegression()\n",
    "model.fit(X_train, y_train)\n",
    "\n",
    "# Making predictions\n",
    "y_pred = model.predict(X_test)\n",
    "\n",
    "# Evaluating the model\n",
    "accuracy = accuracy_score(y_test, y_pred)\n",
    "print(f'Accuracy: {accuracy}')\n"
   ]
  },
  {
   "cell_type": "code",
   "execution_count": null,
   "id": "6ab674f5-2eb4-4293-ae42-af219a5a459f",
   "metadata": {},
   "outputs": [],
   "source": []
  },
  {
   "cell_type": "markdown",
   "id": "d07518fa-5bc4-4c55-9d08-69906e199a04",
   "metadata": {},
   "source": [
    "Question 9: What are the characteristics of Unsupervised Learning?"
   ]
  },
  {
   "cell_type": "markdown",
   "id": "1212f212-60d3-4e6b-9b43-871bbbc1eeda",
   "metadata": {},
   "source": [
    "Unsupervised learning deals with unlabeled data. The algorithm tries to learn the underlying structure of the data without explicit instructions on what to predict. It is used for clustering, association, and dimensionality reduction tasks."
   ]
  },
  {
   "cell_type": "code",
   "execution_count": null,
   "id": "058d6fec-7ea4-47e6-8260-77dda2a27496",
   "metadata": {},
   "outputs": [],
   "source": []
  },
  {
   "cell_type": "markdown",
   "id": "69096818-5d6c-43c4-97f5-4ab4950d3b60",
   "metadata": {},
   "source": [
    "Question 10: Give examples of Unsupervised Learning algorithms."
   ]
  },
  {
   "cell_type": "markdown",
   "id": "2d886ea0-e530-43a4-9d5a-94d6a9a7a390",
   "metadata": {},
   "source": [
    "K-means Clustering\n",
    "Hierarchical Clustering\n",
    "Principal Component Analysis (PCA)\n",
    "Association Rule Learning (e.g., Apriori Algorithm)"
   ]
  },
  {
   "cell_type": "code",
   "execution_count": 14,
   "id": "3c803463-fab2-4974-832c-4b9490d94951",
   "metadata": {},
   "outputs": [
    {
     "data": {
      "image/png": "[encoded data removed]",
      "text/plain": [
       "<Figure size 640x480 with 1 Axes>"
      ]
     },
     "metadata": {},
     "output_type": "display_data"
    }
   ],
   "source": [
    "import numpy as np\n",
    "import pandas as pd\n",
    "from sklearn.cluster import KMeans\n",
    "import matplotlib.pyplot as plt\n",
    "\n",
    "# Sample dataset\n",
    "data = pd.DataFrame({\n",
    "    'Feature1': np.random.rand(100),\n",
    "    'Feature2': np.random.rand(100)\n",
    "})\n",
    "\n",
    "# Training the model\n",
    "kmeans = KMeans(n_clusters=3, random_state=42)\n",
    "kmeans.fit(data)\n",
    "\n",
    "# Predicting clusters\n",
    "data['Cluster'] = kmeans.labels_\n",
    "\n",
    "# Plotting the clusters\n",
    "plt.scatter(data['Feature1'], data['Feature2'], c=data['Cluster'], cmap='viridis')\n",
    "plt.xlabel('Feature1')\n",
    "plt.ylabel('Feature2')\n",
    "plt.title('K-means Clustering')\n",
    "plt.show()\n"
   ]
  },
  {
   "cell_type": "code",
   "execution_count": null,
   "id": "e8d1ca6b-6114-46e4-8abf-9722ac197208",
   "metadata": {},
   "outputs": [],
   "source": []
  },
  {
   "cell_type": "markdown",
   "id": "b3922795-57c0-4816-9dac-32b73e337809",
   "metadata": {},
   "source": [
    "Question 11: Describe Semi-Supervised Learning and its significance."
   ]
  },
  {
   "cell_type": "markdown",
   "id": "e7dfe407-5155-45dd-914c-5a04cbf3341a",
   "metadata": {},
   "source": [
    "Semi-supervised learning uses a combination of a small amount of labeled data and a large amount of unlabeled data for training. It is significant because it can improve learning accuracy while reducing the cost and effort of labeling large datasets."
   ]
  },
  {
   "cell_type": "code",
   "execution_count": 235,
   "id": "d7ae1afb-46be-44de-8462-60a57a0504fe",
   "metadata": {},
   "outputs": [
    {
     "name": "stdout",
     "output_type": "stream",
     "text": [
      "Model accuracy: 0.6444444444444445\n"
     ]
    },
    {
     "name": "stderr",
     "output_type": "stream",
     "text": [
      "/opt/anaconda3/lib/python3.12/site-packages/sklearn/semi_supervised/_label_propagation.py:322: ConvergenceWarning: max_iter=30 was reached without convergence.\n",
      "  warnings.warn(\n"
     ]
    }
   ],
   "source": [
    "from sklearn.semi_supervised import LabelSpreading\n",
    "from sklearn.datasets import make_classification\n",
    "from sklearn.model_selection import train_test_split\n",
    "\n",
    "# Generate a synthetic dataset\n",
    "X, y = make_classification(n_samples=300, n_features=20, n_classes=2)\n",
    "X_train, X_test, y_train, y_test = train_test_split(X, y, test_size=0.3, random_state=42)\n",
    "\n",
    "# Make some labels as -1 (unlabeled)\n",
    "y_train[::2] = -1\n",
    "\n",
    "# Create and fit LabelSpreading model\n",
    "model = LabelSpreading(kernel='rbf', alpha=0.8)\n",
    "model.fit(X_train, y_train)\n",
    "\n",
    "# Evaluate the model\n",
    "score = model.score(X_test, y_test)\n",
    "print(\"Model accuracy:\", score)\n"
   ]
  },
  {
   "cell_type": "code",
   "execution_count": null,
   "id": "5300b3b8-01b7-42ec-acee-375ada652c26",
   "metadata": {},
   "outputs": [],
   "source": []
  },
  {
   "cell_type": "markdown",
   "id": "37ab5a0d-668b-4524-b1a3-c0ff89480b4d",
   "metadata": {},
   "source": [
    "Question 12: Explain Reinforcement Learning and its applications."
   ]
  },
  {
   "cell_type": "markdown",
   "id": "af1df55f-5aa8-4c1e-9172-e57e9f8c674a",
   "metadata": {},
   "source": [
    "Reinforcement Learning (RL) is a type of machine learning where an agent learns to make decisions by performing actions in an environment to maximize cumulative rewards. The agent receives feedback in the form of rewards or penalties and uses this to improve its future actions.\n",
    "\n",
    "Applications of RL:\n",
    "\n",
    "Robotics (e.g., robots learning to walk)\n",
    "Game playing (e.g., AlphaGo)\n",
    "Autonomous vehicles\n",
    "Recommendation systems"
   ]
  },
  {
   "cell_type": "code",
   "execution_count": null,
   "id": "9a1ee169-67c8-44ea-8e05-f7cea8a70feb",
   "metadata": {},
   "outputs": [],
   "source": []
  },
  {
   "cell_type": "markdown",
   "id": "619d9fcf-ce79-40e2-a2ee-0165b610d45b",
   "metadata": {},
   "source": [
    "Question 13: How does Reinforcement Learning differ from Supervised and Unsupervised Learning?"
   ]
  },
  {
   "cell_type": "markdown",
   "id": "631678af-3039-4d8f-bacb-08fcfd0abef7",
   "metadata": {},
   "source": [
    "Unlike supervised learning, which uses labeled data, and unsupervised learning, which uses unlabeled data, reinforcement learning involves learning through interaction with an environment and receiving feedback in the form of rewards or penalties."
   ]
  },
  {
   "cell_type": "code",
   "execution_count": null,
   "id": "95f00b07-42ba-4611-9a61-dfccb94fe1ee",
   "metadata": {},
   "outputs": [],
   "source": []
  },
  {
   "cell_type": "markdown",
   "id": "1fd4ddb0-bc60-49ed-85af-906df9c442b5",
   "metadata": {},
   "source": [
    "Question 14: What is the purpose of the Train-Test-Validation split in machine learning?"
   ]
  },
  {
   "cell_type": "markdown",
   "id": "9c18fd67-8133-493c-ba89-9a91f351496f",
   "metadata": {},
   "source": [
    "The purpose is to evaluate the model's performance and generalize it to new, unseen data. The training set is used to train the model, the validation set to tune hyperparameters, and the test set to assess the model's final performance."
   ]
  },
  {
   "cell_type": "code",
   "execution_count": 243,
   "id": "8dc4a001-9ba2-4b47-a5f7-9776ddc664e9",
   "metadata": {},
   "outputs": [],
   "source": [
    "from sklearn.model_selection import train_test_split\n",
    "\n",
    "# Assume X, y are the features and labels\n",
    "X_train, X_temp, y_train, y_temp = train_test_split(X, y, test_size=0.3, random_state=42)\n",
    "X_val, X_test, y_val, y_test = train_test_split(X_temp, y_temp, test_size=0.5, random_state=42)\n"
   ]
  },
  {
   "cell_type": "markdown",
   "id": "0d0fff65-1a71-434e-b62c-f16c8a1c63fe",
   "metadata": {},
   "source": [
    "Question 15: Explain the significance of the training set."
   ]
  },
  {
   "cell_type": "markdown",
   "id": "a2df7977-6162-4b64-b0d4-8656052c44e7",
   "metadata": {},
   "source": [
    "The training set is used to train the model and allow it to learn the patterns and relationships in the data. A well-representative training set is crucial for building a reliable model."
   ]
  },
  {
   "cell_type": "code",
   "execution_count": null,
   "id": "990673a7-7205-4264-80df-97d2fb03fa55",
   "metadata": {},
   "outputs": [],
   "source": []
  },
  {
   "cell_type": "markdown",
   "id": "9dc8995f-a8b6-4a74-a7e9-16060df671eb",
   "metadata": {},
   "source": [
    "Question 16: How do you determine the size of the training, testing, and validation sets?"
   ]
  },
  {
   "cell_type": "markdown",
   "id": "b12375ab-ae9b-4e73-928c-9851cd86cad3",
   "metadata": {},
   "source": [
    "A common approach is to split the data into 60-80% for training, 10-20% for validation, and 10-20% for testing. The exact proportions can vary based on the dataset size and the specific problem.\n",
    "\n"
   ]
  },
  {
   "cell_type": "code",
   "execution_count": null,
   "id": "25a670d1-d8e5-40bb-bed2-393752b5e5bd",
   "metadata": {},
   "outputs": [],
   "source": []
  },
  {
   "cell_type": "markdown",
   "id": "20b6879e-83e2-4800-8a43-f3d1bf4f11ec",
   "metadata": {},
   "source": [
    "Question 17: What are the consequences of improper Train-Test-Validation splits?"
   ]
  },
  {
   "cell_type": "markdown",
   "id": "a0a117be-3135-4447-9ee1-6548af27318c",
   "metadata": {},
   "source": [
    "Improper splits can lead to biased or inaccurate models. If the test set is too small, the performance estimates may be unreliable. If the training set is too small, the model may not learn adequately, leading to underfitting."
   ]
  },
  {
   "cell_type": "markdown",
   "id": "46166dde-a9bd-46e5-898a-42627122a8e7",
   "metadata": {},
   "source": [
    "Question 18: Discuss the trade-offs in selecting appropriate split ratios."
   ]
  },
  {
   "cell_type": "markdown",
   "id": "a07540ba-1344-4359-9b5e-3ac35c78593d",
   "metadata": {},
   "source": [
    "Larger training sets can improve model learning, but smaller test and validation sets may provide unreliable performance estimates. Balancing these ratios is key to building and evaluating robust models."
   ]
  },
  {
   "cell_type": "code",
   "execution_count": null,
   "id": "154539b9-9086-4c89-ae60-ca0972297d4c",
   "metadata": {},
   "outputs": [],
   "source": []
  },
  {
   "cell_type": "markdown",
   "id": "06782a45-a714-4be0-a5b1-a15f7bdce67e",
   "metadata": {},
   "source": [
    "Question 19: Define model performance in machine learning."
   ]
  },
  {
   "cell_type": "markdown",
   "id": "5b5401e9-32f8-4881-831d-ebea0bae64ef",
   "metadata": {},
   "source": [
    "Model performance refers to how well a machine learning model makes predictions on new, unseen data. It is typically measured using metrics such as accuracy, precision, recall, F1 score, and AUC-ROC."
   ]
  },
  {
   "cell_type": "code",
   "execution_count": null,
   "id": "8a1bc803-eedc-480d-9d9a-0e700384104e",
   "metadata": {},
   "outputs": [],
   "source": []
  },
  {
   "cell_type": "markdown",
   "id": "770bc439-4d63-41c5-8c8e-71fd36dbd38e",
   "metadata": {},
   "source": [
    "Question 20: How do you measure the performance of a machine learning model?"
   ]
  },
  {
   "cell_type": "markdown",
   "id": "62a04f4d-2591-432d-9f70-c3eced959581",
   "metadata": {},
   "source": [
    "Performance is measured using evaluation metrics such as accuracy for classification, mean squared error for regression, and precision-recall for imbalanced datasets."
   ]
  },
  {
   "cell_type": "markdown",
   "id": "727911a9-2825-4309-b277-e9467a7d235b",
   "metadata": {},
   "source": [
    "Question 21: What is overfitting and why is it problematic?"
   ]
  },
  {
   "cell_type": "markdown",
   "id": "f90afafe-ed63-4b27-a34d-a896b6d1c31d",
   "metadata": {},
   "source": [
    "Overfitting occurs when a model learns the training data too well, including noise and outliers, resulting in poor generalization to new data. It is problematic because the model performs well on training data but poorly on test data.\n",
    "\n"
   ]
  },
  {
   "cell_type": "code",
   "execution_count": 247,
   "id": "37b96735-6025-47f8-8274-e383a4923121",
   "metadata": {},
   "outputs": [
    {
     "name": "stdout",
     "output_type": "stream",
     "text": [
      "Train Accuracy: 1.0\n",
      "Test Accuracy: 0.9333333333333333\n"
     ]
    }
   ],
   "source": [
    "from sklearn.tree import DecisionTreeClassifier\n",
    "from sklearn.model_selection import train_test_split\n",
    "from sklearn.metrics import accuracy_score\n",
    "\n",
    "# Assume X, y are the features and labels\n",
    "X_train, X_test, y_train, y_test = train_test_split(X, y, test_size=0.2, random_state=42)\n",
    "\n",
    "# Create and train a Decision Tree model\n",
    "model = DecisionTreeClassifier(max_depth=10)  # Limiting depth to avoid overfitting\n",
    "model.fit(X_train, y_train)\n",
    "\n",
    "# Predict and evaluate\n",
    "y_train_pred = model.predict(X_train)\n",
    "y_test_pred = model.predict(X_test)\n",
    "\n",
    "train_accuracy = accuracy_score(y_train, y_train_pred)\n",
    "test_accuracy = accuracy_score(y_test, y_test_pred)\n",
    "\n",
    "print(\"Train Accuracy:\", train_accuracy)\n",
    "print(\"Test Accuracy:\", test_accuracy)\n"
   ]
  },
  {
   "cell_type": "code",
   "execution_count": null,
   "id": "0ac2604f-38c9-4fe6-8b41-3c364abe470b",
   "metadata": {},
   "outputs": [],
   "source": []
  },
  {
   "cell_type": "markdown",
   "id": "709eb5e8-3840-48f5-9029-ef857ff2afae",
   "metadata": {},
   "source": [
    "Question 22: Provide techniques to address overfitting."
   ]
  },
  {
   "cell_type": "markdown",
   "id": "c2ed0e3d-bd7a-4134-8984-c1b9b544a7c5",
   "metadata": {},
   "source": [
    "Use of regularization techniques (e.g., L1, L2)\n",
    "Pruning decision trees\n",
    "Reducing model complexity\n",
    "Using dropout in neural networks\n",
    "Cross-validation"
   ]
  },
  {
   "cell_type": "code",
   "execution_count": 32,
   "id": "c3e87aaa-909d-4a13-a2e8-dbb210143c49",
   "metadata": {},
   "outputs": [
    {
     "name": "stdout",
     "output_type": "stream",
     "text": [
      "Cross-validated scores: [-0.08954784  0.02088928 -0.06677349  0.03564708 -0.03205883]\n"
     ]
    }
   ],
   "source": [
    "from sklearn.linear_model import Ridge\n",
    "from sklearn.model_selection import cross_val_score\n",
    "\n",
    "# Sample dataset\n",
    "X = np.random.rand(100, 2)\n",
    "y = np.random.randint(2, size=100)\n",
    "\n",
    "# Ridge regression with regularization\n",
    "model = Ridge(alpha=1.0)\n",
    "scores = cross_val_score(model, X, y, cv=5)\n",
    "print(f'Cross-validated scores: {scores}')\n"
   ]
  },
  {
   "cell_type": "code",
   "execution_count": null,
   "id": "fc675e13-2da2-454e-b15b-eac8fd9d0fac",
   "metadata": {},
   "outputs": [],
   "source": []
  },
  {
   "cell_type": "markdown",
   "id": "4e21e490-9409-4acd-9526-dfde2cf31819",
   "metadata": {},
   "source": [
    "Question 23: Explain underfitting and its implications."
   ]
  },
  {
   "cell_type": "markdown",
   "id": "0961a738-8556-4306-8e5a-f81fed60e859",
   "metadata": {},
   "source": [
    "Underfitting occurs when a model is too simple to capture the underlying patterns in the data, leading to poor performance on both training and test data. It indicates that the model has not learned enough from the data."
   ]
  },
  {
   "cell_type": "code",
   "execution_count": null,
   "id": "cffca5fa-c594-42f1-bfd7-5fb07f823461",
   "metadata": {},
   "outputs": [],
   "source": []
  },
  {
   "cell_type": "markdown",
   "id": "742ee89b-60f2-4516-8e05-6ab8b358a4e9",
   "metadata": {},
   "source": [
    "Question 24: How can you prevent underfitting in machine learning models?"
   ]
  },
  {
   "cell_type": "markdown",
   "id": "d066b559-1869-4204-876b-e58daf54c505",
   "metadata": {},
   "source": [
    "Use more complex models\n",
    "Increase the number of features\n",
    "Train the model longer\n",
    "Reduce regularization\n"
   ]
  },
  {
   "cell_type": "code",
   "execution_count": null,
   "id": "e88e4dda-66cd-49b5-ba9e-982b214b8d1d",
   "metadata": {},
   "outputs": [],
   "source": []
  },
  {
   "cell_type": "markdown",
   "id": "352ac2f1-f8f9-43f4-85dc-8254d67d6c8a",
   "metadata": {},
   "source": [
    "Question 25: Discuss the balance between bias and variance in model performance."
   ]
  },
  {
   "cell_type": "markdown",
   "id": "dd694f2d-0b63-41af-9c90-9e97ae5497fc",
   "metadata": {},
   "source": [
    "Bias refers to errors due to overly simplistic models, leading to underfitting. Variance refers to errors due to models that are too complex, leading to overfitting. The goal is to find a balance where the model performs well on both training and test data."
   ]
  },
  {
   "cell_type": "code",
   "execution_count": null,
   "id": "223d89d2-5217-434b-bd52-270c361068f4",
   "metadata": {},
   "outputs": [],
   "source": []
  },
  {
   "cell_type": "markdown",
   "id": "78c6f4db-4bb0-4e9e-be43-5eced5ea11b9",
   "metadata": {},
   "source": [
    "Question 26: What are the common techniques to handle missing data?"
   ]
  },
  {
   "cell_type": "markdown",
   "id": "1fa14597-b197-4587-9927-df2d1345a304",
   "metadata": {},
   "source": [
    "Handling missing data is a crucial step in data preprocessing. Here are some common techniques to handle missing data:\n",
    "\n",
    "Remove Missing Data:\n",
    "\n",
    "Remove Rows: Remove rows that contain any missing values.\n",
    "Remove Columns: Remove entire columns if a significant portion of the data is missing.\n",
    "Imputation:\n",
    "\n",
    "Mean/Median/Mode Imputation: Replace missing values with the mean, median, or mode of the column.\n",
    "Forward Fill: Replace missing values with the previous value in the column.\n",
    "Backward Fill: Replace missing values with the next value in the column.\n",
    "Interpolation: Estimate missing values by interpolating between existing values.\n",
    "Using Algorithms to Predict Missing Values:\n",
    "\n",
    "K-Nearest Neighbors (KNN) Imputation: Use the K-nearest neighbors algorithm to estimate missing values.\n",
    "Multivariate Imputation by Chained Equations (MICE): Use regression models to predict and impute missing values.\n",
    "Using Machine Learning Models:\n",
    "\n",
    "Regression Imputation: Use regression models to predict missing values based on other available features.\n",
    "Deep Learning Imputation: Use neural networks to predict and impute missing values.\n",
    "Special Value Imputation:\n",
    "\n",
    "Constant Value: Replace missing values with a constant value such as -1 or 0, which indicates missingness.\n",
    "Using Indicators for Missingness:\n",
    "\n",
    "Binary Indicator: Create a new binary feature that indicates whether the value is missing (1) or not (0)."
   ]
  },
  {
   "cell_type": "code",
   "execution_count": 48,
   "id": "ee0cdf59-2eaf-4b1c-a5e7-73f9804c3fc7",
   "metadata": {},
   "outputs": [
    {
     "name": "stdout",
     "output_type": "stream",
     "text": [
      "After removing rows with missing values:\n",
      "      A    B  C\n",
      "1  2.0  2.0  2\n",
      "4  5.0  5.0  5\n",
      "After removing columns with missing values:\n",
      "    C\n",
      "0  1\n",
      "1  2\n",
      "2  3\n",
      "3  4\n",
      "4  5\n",
      "After mean imputation:\n",
      "      A         B    C\n",
      "0  1.0  3.333333  1.0\n",
      "1  2.0  2.000000  2.0\n",
      "2  3.0  3.000000  3.0\n",
      "3  4.0  3.333333  4.0\n",
      "4  5.0  5.000000  5.0\n",
      "After forward fill:\n",
      "      A    B  C\n",
      "0  1.0  NaN  1\n",
      "1  2.0  2.0  2\n",
      "2  2.0  3.0  3\n",
      "3  4.0  3.0  4\n",
      "4  5.0  5.0  5\n",
      "After backward fill:\n",
      "      A    B  C\n",
      "0  1.0  2.0  1\n",
      "1  2.0  2.0  2\n",
      "2  4.0  3.0  3\n",
      "3  4.0  5.0  4\n",
      "4  5.0  5.0  5\n",
      "After interpolation:\n",
      "      A    B  C\n",
      "0  1.0  NaN  1\n",
      "1  2.0  2.0  2\n",
      "2  3.0  3.0  3\n",
      "3  4.0  4.0  4\n",
      "4  5.0  5.0  5\n",
      "After KNN imputation:\n",
      "      A    B    C\n",
      "0  1.0  2.5  1.0\n",
      "1  2.0  2.0  2.0\n",
      "2  3.0  3.0  3.0\n",
      "3  4.0  4.0  4.0\n",
      "4  5.0  5.0  5.0\n",
      "After adding missing indicators:\n",
      "      A    B  C  A_missing  B_missing\n",
      "0  1.0  NaN  1          0          1\n",
      "1  2.0  2.0  2          0          0\n",
      "2  NaN  3.0  3          1          0\n",
      "3  4.0  NaN  4          0          1\n",
      "4  5.0  5.0  5          0          0\n"
     ]
    },
    {
     "name": "stderr",
     "output_type": "stream",
     "text": [
      "/var/folders/tx/7828y2zs63dczctdd5kmqxfm0000gn/T/ipykernel_4891/2746803527.py:29: FutureWarning: DataFrame.fillna with 'method' is deprecated and will raise in a future version. Use obj.ffill() or obj.bfill() instead.\n",
      "  df_ffill = df.fillna(method='ffill')\n",
      "/var/folders/tx/7828y2zs63dczctdd5kmqxfm0000gn/T/ipykernel_4891/2746803527.py:33: FutureWarning: DataFrame.fillna with 'method' is deprecated and will raise in a future version. Use obj.ffill() or obj.bfill() instead.\n",
      "  df_bfill = df.fillna(method='bfill')\n"
     ]
    }
   ],
   "source": [
    "import pandas as pd\n",
    "import numpy as np\n",
    "from sklearn.impute import SimpleImputer\n",
    "from sklearn.impute import KNNImputer\n",
    "\n",
    "# Sample data\n",
    "data = {'A': [1, 2, np.nan, 4, 5],\n",
    "        'B': [np.nan, 2, 3, np.nan, 5],\n",
    "        'C': [1, 2, 3, 4, 5]}\n",
    "\n",
    "df = pd.DataFrame(data)\n",
    "\n",
    "# 1. Remove Missing Data\n",
    "# Remove rows with missing values\n",
    "df_dropped_rows = df.dropna()\n",
    "print(\"After removing rows with missing values:\\n\", df_dropped_rows)\n",
    "\n",
    "# Remove columns with missing values\n",
    "df_dropped_cols = df.dropna(axis=1)\n",
    "print(\"After removing columns with missing values:\\n\", df_dropped_cols)\n",
    "\n",
    "# 2. Imputation\n",
    "# Mean/Median/Mode Imputation\n",
    "imputer = SimpleImputer(strategy='mean')\n",
    "df_mean_imputed = pd.DataFrame(imputer.fit_transform(df), columns=df.columns)\n",
    "print(\"After mean imputation:\\n\", df_mean_imputed)\n",
    "\n",
    "# Forward Fill\n",
    "df_ffill = df.fillna(method='ffill')\n",
    "print(\"After forward fill:\\n\", df_ffill)\n",
    "\n",
    "# Backward Fill\n",
    "df_bfill = df.fillna(method='bfill')\n",
    "print(\"After backward fill:\\n\", df_bfill)\n",
    "\n",
    "# Interpolation\n",
    "df_interpolated = df.interpolate()\n",
    "print(\"After interpolation:\\n\", df_interpolated)\n",
    "\n",
    "# 3. Using K-Nearest Neighbors (KNN) Imputation\n",
    "knn_imputer = KNNImputer(n_neighbors=2)\n",
    "df_knn_imputed = pd.DataFrame(knn_imputer.fit_transform(df), columns=df.columns)\n",
    "print(\"After KNN imputation:\\n\", df_knn_imputed)\n",
    "\n",
    "# 4. Using Indicators for Missingness\n",
    "df['A_missing'] = df['A'].isna().astype(int)\n",
    "df['B_missing'] = df['B'].isna().astype(int)\n",
    "print(\"After adding missing indicators:\\n\", df)\n"
   ]
  },
  {
   "cell_type": "code",
   "execution_count": null,
   "id": "7ce204d8-4cf4-45ac-bf6d-59aabc81a35f",
   "metadata": {},
   "outputs": [],
   "source": []
  },
  {
   "cell_type": "markdown",
   "id": "19123ff7-3098-4039-b0c2-a9dc3aa2e2ba",
   "metadata": {},
   "source": [
    "Question 27: Explain the implications of ignoring missing data."
   ]
  },
  {
   "cell_type": "markdown",
   "id": "b8831bd4-348f-48ea-bd9f-59264360a1fa",
   "metadata": {},
   "source": [
    "Ignoring missing data can lead to several problems:\n",
    "\n",
    "Bias: Missing data can introduce bias if the data are not missing completely at random.\n",
    "Reduced Sample Size: Ignoring rows with missing data reduces the dataset size, potentially losing valuable information.\n",
    "Model Performance: The model's performance can degrade due to incomplete data, leading to inaccurate predictions."
   ]
  },
  {
   "cell_type": "code",
   "execution_count": null,
   "id": "0fb4f2d0-0057-49ec-b514-52f153693710",
   "metadata": {},
   "outputs": [],
   "source": []
  },
  {
   "cell_type": "markdown",
   "id": "c1ea43b5-bc93-429d-b633-71e9f129ab70",
   "metadata": {},
   "source": [
    "Question 28: Discuss the pros and cons of imputation methods."
   ]
  },
  {
   "cell_type": "markdown",
   "id": "d4107a58-9e66-47ac-a8fb-8e2e4d6ada88",
   "metadata": {},
   "source": [
    "Pros:\n",
    "\n",
    "Preserve Data Size: Imputation allows you to keep all your data, avoiding the loss of information.\n",
    "Reduce Bias: Appropriate imputation methods can reduce the bias introduced by missing data.\n",
    "Improve Accuracy: Proper imputation can lead to more accurate models.\n",
    "\n",
    "\n",
    "\n",
    "Cons:\n",
    "\n",
    "Complexity: Some imputation methods can be complex and computationally intensive.\n",
    "Assumptions: Imputation methods often rely on assumptions about the data that may not hold.\n",
    "Introduced Bias: Poorly chosen imputation methods can introduce bias or noise.\n"
   ]
  },
  {
   "cell_type": "code",
   "execution_count": 53,
   "id": "5f62f1c4-9002-4ac4-a2b5-1a76ef9ca3b1",
   "metadata": {},
   "outputs": [
    {
     "name": "stdout",
     "output_type": "stream",
     "text": [
      "     A    B\n",
      "0  1.0  3.5\n",
      "1  2.0  2.0\n",
      "2  3.0  3.0\n",
      "3  4.0  4.0\n",
      "4  5.0  5.0\n"
     ]
    },
    {
     "name": "stderr",
     "output_type": "stream",
     "text": [
      "/var/folders/tx/7828y2zs63dczctdd5kmqxfm0000gn/T/ipykernel_4891/674088630.py:12: FutureWarning: A value is trying to be set on a copy of a DataFrame or Series through chained assignment using an inplace method.\n",
      "The behavior will change in pandas 3.0. This inplace method will never work because the intermediate object on which we are setting values always behaves as a copy.\n",
      "\n",
      "For example, when doing 'df[col].method(value, inplace=True)', try using 'df.method({col: value}, inplace=True)' or df[col] = df[col].method(value) instead, to perform the operation inplace on the original object.\n",
      "\n",
      "\n",
      "  df['A'].fillna(df['A'].mean(), inplace=True)\n",
      "/var/folders/tx/7828y2zs63dczctdd5kmqxfm0000gn/T/ipykernel_4891/674088630.py:13: FutureWarning: A value is trying to be set on a copy of a DataFrame or Series through chained assignment using an inplace method.\n",
      "The behavior will change in pandas 3.0. This inplace method will never work because the intermediate object on which we are setting values always behaves as a copy.\n",
      "\n",
      "For example, when doing 'df[col].method(value, inplace=True)', try using 'df.method({col: value}, inplace=True)' or df[col] = df[col].method(value) instead, to perform the operation inplace on the original object.\n",
      "\n",
      "\n",
      "  df['B'].fillna(df['B'].mean(), inplace=True)\n"
     ]
    }
   ],
   "source": [
    "import pandas as pd\n",
    "import numpy as np\n",
    "\n",
    "# Sample data with missing values\n",
    "data = {\n",
    "    'A': [1, 2, np.nan, 4, 5],\n",
    "    'B': [np.nan, 2, 3, 4, 5]\n",
    "}\n",
    "df = pd.DataFrame(data)\n",
    "\n",
    "# Imputation with mean\n",
    "df['A'].fillna(df['A'].mean(), inplace=True)\n",
    "df['B'].fillna(df['B'].mean(), inplace=True)\n",
    "\n",
    "print(df)\n"
   ]
  },
  {
   "cell_type": "code",
   "execution_count": null,
   "id": "addea035-471b-4d98-b472-394152ae10aa",
   "metadata": {},
   "outputs": [],
   "source": []
  },
  {
   "cell_type": "markdown",
   "id": "3c2032cd-02a2-4895-ae88-632486eba9f3",
   "metadata": {},
   "source": [
    "Question 29: How does missing data affect model performance?"
   ]
  },
  {
   "cell_type": "markdown",
   "id": "4c42e472-ff1f-4cca-882d-45cbbd55d5de",
   "metadata": {},
   "source": [
    "Missing data can affect model performance in the following ways:\n",
    "\n",
    "Reduced Accuracy: Models trained on incomplete data might not generalize well to new data.\n",
    "Bias: If the missing data are not randomly distributed, the model may become biased.\n",
    "Instability: The model's predictions can become unstable if the missing data patterns change.\n"
   ]
  },
  {
   "cell_type": "markdown",
   "id": "f222a757-7cc9-4d17-8699-9d9c13b48d25",
   "metadata": {},
   "source": [
    "Question 30: Define imbalanced data in the context of machine learning."
   ]
  },
  {
   "cell_type": "markdown",
   "id": "63e1bbc7-9a6c-4b77-bb22-21043bec24e0",
   "metadata": {},
   "source": [
    "Imbalanced data refers to a situation where the classes in a classification problem are not represented equally. For example, in a binary classification problem, one class might constitute 90% of the data, while the other class only 10%.\n",
    "\n"
   ]
  },
  {
   "cell_type": "code",
   "execution_count": null,
   "id": "8bcaf5d6-2ab8-40c2-b332-ea463444f559",
   "metadata": {},
   "outputs": [],
   "source": []
  },
  {
   "cell_type": "markdown",
   "id": "d3f30233-6d11-47dd-be2c-697149aab85c",
   "metadata": {},
   "source": [
    "Question 31: Discuss the challenges posed by imbalanced data."
   ]
  },
  {
   "cell_type": "markdown",
   "id": "fa776dbc-1c1d-4c55-a64e-4f5fb86dd07b",
   "metadata": {},
   "source": [
    "Bias Towards Majority Class: Models tend to predict the majority class more often.\n",
    "Poor Predictive Performance: The minority class may have poor predictive performance, which is often the class of interest.\n",
    "Misleading Metrics: Common evaluation metrics like accuracy can be misleading in the presence of imbalanced data.\n"
   ]
  },
  {
   "cell_type": "code",
   "execution_count": null,
   "id": "7f02e032-c987-4e9e-b21f-a66eb99b3c22",
   "metadata": {},
   "outputs": [],
   "source": []
  },
  {
   "cell_type": "markdown",
   "id": "ea28e972-509f-41dd-8d90-3eab45c82be8",
   "metadata": {},
   "source": [
    "Question 32: What techniques can be used to address imbalanced data?"
   ]
  },
  {
   "cell_type": "markdown",
   "id": "918fc6d7-a6e3-42f5-b81b-7ab8e024940c",
   "metadata": {},
   "source": [
    "Techniques include:\n",
    "\n",
    "Resampling Methods: Oversampling the minority class or undersampling the majority class.\n",
    "Synthetic Data Generation: Techniques like SMOTE (Synthetic Minority Over-sampling Technique).\n",
    "Algorithmic Approaches: Using algorithms that are less sensitive to class imbalance, such as decision trees or ensemble methods.\n",
    "Adjusting Class Weights: Modifying the class weights in algorithms to account for the imbalance.\n"
   ]
  },
  {
   "cell_type": "code",
   "execution_count": 59,
   "id": "d69ed000-9284-4e58-a265-0515d7b32ab6",
   "metadata": {},
   "outputs": [
    {
     "name": "stdout",
     "output_type": "stream",
     "text": [
      "Original dataset shape Counter({0: 990, 1: 10})\n",
      "Resampled dataset shape Counter({0: 990, 1: 990})\n"
     ]
    }
   ],
   "source": [
    "from imblearn.over_sampling import SMOTE\n",
    "from sklearn.datasets import make_classification\n",
    "from collections import Counter\n",
    "\n",
    "# Create a sample imbalanced dataset\n",
    "X, y = make_classification(n_samples=1000, n_features=20, n_informative=2, n_redundant=10,\n",
    "                           n_clusters_per_class=1, weights=[0.99], flip_y=0, random_state=1)\n",
    "\n",
    "print('Original dataset shape %s' % Counter(y))\n",
    "\n",
    "# Apply SMOTE\n",
    "sm = SMOTE(random_state=42)\n",
    "X_res, y_res = sm.fit_resample(X, y)\n",
    "\n",
    "print('Resampled dataset shape %s' % Counter(y_res))\n"
   ]
  },
  {
   "cell_type": "code",
   "execution_count": null,
   "id": "bc258e1a-7bb9-44cd-a9d1-df47cf71fd27",
   "metadata": {},
   "outputs": [],
   "source": []
  },
  {
   "cell_type": "markdown",
   "id": "4eaf6c31-ecdf-4369-b857-052fd49dc66a",
   "metadata": {},
   "source": [
    "Question 33: Explain the process of up-sampling and down-sampling."
   ]
  },
  {
   "cell_type": "markdown",
   "id": "2cbd23cd-877f-4801-a19a-f31146910d5c",
   "metadata": {},
   "source": [
    "Up-sampling (Oversampling)\n",
    "Up-sampling, also known as oversampling, involves increasing the number of instances in the minority class to balance the class distribution. This can be done by randomly duplicating examples from the minority class or by creating synthetic examples.\n",
    "\n",
    "Pros:\n",
    "\n",
    "Helps balance the class distribution without losing any majority class instances.\n",
    "Can improve the performance of the classifier on the minority class.\n",
    "Cons:\n",
    "\n",
    "Risk of overfitting: Duplicating examples can lead to overfitting, especially if the minority class is small.\n",
    "Increased computational cost: More data points mean higher computational cost during training."
   ]
  },
  {
   "cell_type": "code",
   "execution_count": 62,
   "id": "001907ee-df86-469c-ad27-b464e73234c0",
   "metadata": {},
   "outputs": [
    {
     "name": "stdout",
     "output_type": "stream",
     "text": [
      "target\n",
      "0    4\n",
      "1    4\n",
      "Name: count, dtype: int64\n"
     ]
    }
   ],
   "source": [
    "from sklearn.utils import resample\n",
    "import pandas as pd\n",
    "\n",
    "# Sample imbalanced dataset\n",
    "data = {\n",
    "    'feature': [1, 2, 3, 4, 5, 6],\n",
    "    'target': [0, 0, 0, 0, 1, 1]\n",
    "}\n",
    "df = pd.DataFrame(data)\n",
    "\n",
    "# Separate majority and minority classes\n",
    "df_majority = df[df.target == 0]\n",
    "df_minority = df[df.target == 1]\n",
    "\n",
    "# Upsample minority class\n",
    "df_minority_upsampled = resample(df_minority, \n",
    "                                 replace=True,     # Sample with replacement\n",
    "                                 n_samples=len(df_majority),    # Match number of majority class\n",
    "                                 random_state=42)  # For reproducibility\n",
    "\n",
    "# Combine majority class with upsampled minority class\n",
    "df_upsampled = pd.concat([df_majority, df_minority_upsampled])\n",
    "\n",
    "print(df_upsampled.target.value_counts())\n"
   ]
  },
  {
   "cell_type": "markdown",
   "id": "541cb895-dfdf-4eef-a00e-facc217a2667",
   "metadata": {},
   "source": [
    "Down-sampling (Undersampling)\n",
    "Down-sampling, or undersampling, involves reducing the number of instances in the majority class to balance the class distribution. This is typically done by randomly selecting a subset of the majority class examples.\n",
    "\n",
    "Pros:\n",
    "\n",
    "Helps balance the class distribution without adding synthetic data.\n",
    "Can reduce computational cost by reducing the number of training examples.\n",
    "\n",
    "Cons:\n",
    "\n",
    "Loss of information: Removing majority class instances can result in loss of potentially useful information.\n",
    "Risk of underfitting: The model may not perform well due to the reduced amount of data."
   ]
  },
  {
   "cell_type": "code",
   "execution_count": 65,
   "id": "1a9c211e-b6bc-4c9a-af4a-5a7360d41016",
   "metadata": {},
   "outputs": [
    {
     "name": "stdout",
     "output_type": "stream",
     "text": [
      "target\n",
      "0    2\n",
      "1    2\n",
      "Name: count, dtype: int64\n"
     ]
    }
   ],
   "source": [
    "# Downsample majority class\n",
    "df_majority_downsampled = resample(df_majority, \n",
    "                                   replace=False,    # Sample without replacement\n",
    "                                   n_samples=len(df_minority),  # Match number of minority class\n",
    "                                   random_state=42)  # For reproducibility\n",
    "\n",
    "# Combine minority class with downsampled majority class\n",
    "df_downsampled = pd.concat([df_majority_downsampled, df_minority])\n",
    "\n",
    "print(df_downsampled.target.value_counts())\n"
   ]
  },
  {
   "cell_type": "code",
   "execution_count": null,
   "id": "4f08c162-5df1-4cd4-ad35-3daf39d097e8",
   "metadata": {},
   "outputs": [],
   "source": []
  },
  {
   "cell_type": "markdown",
   "id": "b4bd5f21-855a-4684-b5cc-148e531bd171",
   "metadata": {
    "editable": true,
    "slideshow": {
     "slide_type": ""
    },
    "tags": []
   },
   "source": [
    "Question 34: When would you use up-sampling versus down-sampling?"
   ]
  },
  {
   "cell_type": "markdown",
   "id": "fa02194d-ac55-475f-bb05-dd2bc1726eb3",
   "metadata": {},
   "source": [
    "When to Use Up-sampling\n",
    "\n",
    "Small Minority Class: When the minority class is very small, down-sampling the majority class could result in too little data for training. Up-sampling can help balance the classes without losing valuable information.\n",
    "\n",
    "Preserving Data: If you want to preserve all the data points in your dataset, up-sampling is preferred because it does not remove any examples from the majority class.\n",
    "\n",
    "High Variance in Minority Class: When the minority class exhibits high variance and contains important subgroups, up-sampling can help ensure that these subgroups are well-represented in the training process.\n",
    "\n",
    "When Overfitting is Less of a Concern: Up-sampling can lead to overfitting, especially if the same examples are duplicated many times. This might be less of a concern if the model is simple or if regularization techniques are employed.\n",
    "\n",
    "When to Use Down-sampling\n",
    "\n",
    "Large Datasets: If the dataset is very large, down-sampling can reduce computational costs and training time by decreasing the number of training examples.\n",
    "\n",
    "Imbalance Not Severe: When the class imbalance is not extreme, down-sampling the majority class may provide a balanced dataset without losing too much information.\n",
    "\n",
    "Overfitting Concern: Down-sampling can be preferred when there is a high risk of overfitting due to duplicating minority class samples, as this technique reduces the dataset size instead of increasing it.\n",
    "\n",
    "Sufficient Data in Majority Class: If the majority class contains a lot of redundant or less informative data, down-sampling can remove these examples without significantly affecting model performance."
   ]
  },
  {
   "cell_type": "code",
   "execution_count": null,
   "id": "80d0eca5-a755-40af-bf6c-ffe9d087b136",
   "metadata": {},
   "outputs": [],
   "source": []
  },
  {
   "cell_type": "markdown",
   "id": "193af0b4-ce6b-467d-8179-02cb82ba6d5d",
   "metadata": {},
   "source": [
    "Question 35: What is SMOTE and how does it work?"
   ]
  },
  {
   "cell_type": "markdown",
   "id": "d12d1210-6fdf-4069-b4c2-8897a6aa2c13",
   "metadata": {},
   "source": [
    "SMOTE is an advanced technique used to handle imbalanced datasets by generating synthetic examples for the minority class. It works by interpolating new examples along the line segments between existing minority class examples. This helps to create a more balanced dataset without simply duplicating the minority class samples.\n",
    "\n",
    "How SMOTE Works\n",
    "\n",
    "Identify Minority Class Samples: SMOTE first identifies the minority class samples.\n",
    "Find Nearest Neighbors: For each minority class sample, SMOTE finds its k-nearest minority class neighbors.\n",
    "Generate Synthetic Samples: New synthetic samples are generated by choosing random points along the line segments between the minority class sample and its neighbors. This is done by:\n",
    "Selecting a random neighbor.\n",
    "Choosing a random point between the minority class sample and its selected neighbor.\n",
    "Creating a synthetic sample at this point."
   ]
  },
  {
   "cell_type": "code",
   "execution_count": null,
   "id": "86e51fa9-5080-4817-9744-d61dc06c5832",
   "metadata": {},
   "outputs": [],
   "source": []
  },
  {
   "cell_type": "markdown",
   "id": "295f2df0-e5d1-471d-b788-f0e22689fa59",
   "metadata": {},
   "source": [
    "Question 36: Explain the role of SMOTE in handling imbalanced data."
   ]
  },
  {
   "cell_type": "markdown",
   "id": "454b3767-6815-4e25-9e52-29fbc17e2b29",
   "metadata": {},
   "source": [
    "SMOTE helps balance the dataset by creating synthetic samples of the minority class. This can improve the performance of machine learning models by:\n",
    "\n",
    "Providing the model with more examples of the minority class.\n",
    "Reducing the likelihood of the model becoming biased towards the majority class.\n",
    "Improving the generalization ability of the model on minority class predictions."
   ]
  },
  {
   "cell_type": "code",
   "execution_count": null,
   "id": "cc7b9486-3521-4a53-9e6b-ea78310a232f",
   "metadata": {},
   "outputs": [],
   "source": []
  },
  {
   "cell_type": "markdown",
   "id": "97125a48-b5c8-4256-a8ff-0d6dc1816f72",
   "metadata": {},
   "source": [
    "Question 37: Discuss the advantages and limitations of SMOTE."
   ]
  },
  {
   "cell_type": "markdown",
   "id": "28ec9bd1-e97f-4fca-a4c7-3b5be2d1804e",
   "metadata": {},
   "source": [
    "Advantages:\n",
    "\n",
    "Balances Data: Helps in balancing the class distribution without simply duplicating minority class instances.\n",
    "Improves Model Performance: Enhances the ability of models to learn from minority class examples, potentially improving predictive performance.\n",
    "Reduces Overfitting: By generating diverse synthetic samples, it reduces the risk of overfitting compared to simple oversampling.\n",
    "\n",
    "\n",
    "\n",
    "Limitations:\n",
    "\n",
    "Computational Cost: Generating synthetic samples can be computationally intensive, especially for large datasets.\n",
    "Noise Introduction: Synthetic samples may introduce noise if not carefully controlled, potentially degrading model performance.\n",
    "Parameter Sensitivity: The effectiveness of SMOTE depends on parameters like the number of neighbors (k), which need careful tuning.\n"
   ]
  },
  {
   "cell_type": "code",
   "execution_count": null,
   "id": "b430e202-7008-4028-8819-3502ded93f81",
   "metadata": {},
   "outputs": [],
   "source": []
  },
  {
   "cell_type": "markdown",
   "id": "86adcbf7-5854-4797-9a5f-dc515ed74667",
   "metadata": {},
   "source": [
    "Question 38: Provide examples of scenarios where SMOTE is beneficial."
   ]
  },
  {
   "cell_type": "markdown",
   "id": "ca29be01-7e0d-485b-a982-2a85d44a86ab",
   "metadata": {},
   "source": [
    "Fraud Detection: Fraudulent transactions are often much fewer than legitimate ones. SMOTE can help generate synthetic fraudulent transactions to balance the dataset.\n",
    "Medical Diagnosis: Diseases are often rare, leading to imbalanced datasets. SMOTE can generate synthetic examples of rare diseases to improve diagnostic models.\n",
    "Customer Churn Prediction: When the number of customers who churn is much smaller than those who stay, SMOTE can help balance the data."
   ]
  },
  {
   "cell_type": "code",
   "execution_count": null,
   "id": "1490801e-44db-4013-9e68-8d1ca24574de",
   "metadata": {},
   "outputs": [],
   "source": []
  },
  {
   "cell_type": "markdown",
   "id": "416ec7fd-5315-43da-8dc3-952e6e1c946d",
   "metadata": {},
   "source": [
    "Question 39: Define data interpolation and its purpose."
   ]
  },
  {
   "cell_type": "markdown",
   "id": "4ceac321-f365-475a-8c1c-56ea21c6aca9",
   "metadata": {},
   "source": [
    "Data Interpolation is a method of estimating unknown values that fall within the range of known data points. It is used to fill in missing data or generate smoother data representations."
   ]
  },
  {
   "cell_type": "code",
   "execution_count": null,
   "id": "14874305-5b79-4b44-9124-be79e7494022",
   "metadata": {},
   "outputs": [],
   "source": []
  },
  {
   "cell_type": "markdown",
   "id": "698d0576-9769-4be6-b6d3-d3ec339d8767",
   "metadata": {},
   "source": [
    "Question 40: What are the common methods of data interpolation?"
   ]
  },
  {
   "cell_type": "markdown",
   "id": "c0200594-8bbb-4e28-a7ff-c68715512f86",
   "metadata": {},
   "source": [
    "Common Methods of Data Interpolation\n",
    "Linear Interpolation: Estimates unknown values by connecting two adjacent known values with a straight line.\n",
    "Polynomial Interpolation: Uses polynomial functions to estimate unknown values.\n",
    "Spline Interpolation: Uses piecewise polynomials to create a smooth curve through the data points.\n",
    "Nearest Neighbor Interpolation: Assigns the value of the nearest known point to the unknown point."
   ]
  },
  {
   "cell_type": "code",
   "execution_count": null,
   "id": "9bcb8330-5a62-4eb4-8449-8d3ce04707c0",
   "metadata": {},
   "outputs": [],
   "source": []
  },
  {
   "cell_type": "markdown",
   "id": "5ca2b2fc-a192-449d-a309-fe3b8be1bf91",
   "metadata": {},
   "source": [
    "Question 41: Discuss the implications of using data interpolation in machine learning."
   ]
  },
  {
   "cell_type": "markdown",
   "id": "58472e28-95cc-444f-b834-249deb43724a",
   "metadata": {},
   "source": [
    "Implications of Using Data Interpolation in Machine Learning\n",
    "Improved Data Completeness: Helps in filling missing values, making the dataset more complete and usable for machine learning models.\n",
    "Smoothed Data: Can help in creating smoother data representations, which can be beneficial for models sensitive to noise.\n",
    "Potential Bias: Interpolated values are estimates and can introduce bias if the underlying assumptions do not hold true.\n"
   ]
  },
  {
   "cell_type": "code",
   "execution_count": null,
   "id": "1696f3b6-efdc-4ed7-875e-1d1c5aabfa26",
   "metadata": {},
   "outputs": [],
   "source": []
  },
  {
   "cell_type": "markdown",
   "id": "a18acc9a-f7c7-4f2b-a2a2-c7c9b5c71983",
   "metadata": {},
   "source": [
    "Question 42: What are outliers in a dataset?"
   ]
  },
  {
   "cell_type": "markdown",
   "id": "33df0ad5-26a6-427d-8ede-269a2bed85b4",
   "metadata": {},
   "source": [
    "Outliers are data points that deviate significantly from the rest of the dataset. They can be caused by measurement errors, data entry errors, or genuine variability in the data.\n",
    "\n"
   ]
  },
  {
   "cell_type": "code",
   "execution_count": null,
   "id": "adca55a9-6d7b-454a-927d-e02810342528",
   "metadata": {},
   "outputs": [],
   "source": []
  },
  {
   "cell_type": "markdown",
   "id": "cdb69d63-32cc-467d-b8e4-e973ee18913b",
   "metadata": {},
   "source": [
    "Question 43: Explain the impact of outliers on machine learning models."
   ]
  },
  {
   "cell_type": "markdown",
   "id": "90074898-d6b4-42a7-9aac-3b803fd4c5ca",
   "metadata": {},
   "source": [
    "Impact of Outliers on Machine Learning Models\n",
    "Skewed Results: Outliers can skew statistical measures such as mean and standard deviation, affecting the model’s performance.\n",
    "Model Performance: Can degrade the performance of machine learning models by introducing noise and leading to incorrect predictions.\n",
    "Sensitivity: Models like linear regression are highly sensitive to outliers, which can lead to incorrect parameter estimates."
   ]
  },
  {
   "cell_type": "code",
   "execution_count": null,
   "id": "4189a416-b56e-4842-b5d4-152a84488da4",
   "metadata": {},
   "outputs": [],
   "source": []
  },
  {
   "cell_type": "markdown",
   "id": "02075faa-2279-410c-96b9-41fbc1e88152",
   "metadata": {},
   "source": [
    "Question 44: Discuss techniques for identifying outliers."
   ]
  },
  {
   "cell_type": "markdown",
   "id": "e37ea3db-bd8d-4b1f-b25c-f59a51db6923",
   "metadata": {},
   "source": [
    "Statistical Methods: Using measures like z-scores to identify points that are several standard deviations away from the mean.\n",
    "Visualization: Box plots, scatter plots, and histograms can help visually identify outliers.\n",
    "Isolation Forests: An algorithm specifically designed to detect anomalies by isolating outliers.\n",
    "Clustering Methods: Algorithms like DBSCAN can identify outliers as points that do not belong to any cluster."
   ]
  },
  {
   "cell_type": "code",
   "execution_count": 79,
   "id": "2683900c-f2c9-48bd-8df9-1e0a8ee577f8",
   "metadata": {},
   "outputs": [
    {
     "data": {
      "image/png": "[encoded data removed]",
      "text/plain": [
       "<Figure size 640x480 with 1 Axes>"
      ]
     },
     "metadata": {},
     "output_type": "display_data"
    },
    {
     "name": "stdout",
     "output_type": "stream",
     "text": [
      "Outliers using z-scores:\n",
      " Empty DataFrame\n",
      "Columns: [feature1, feature2]\n",
      "Index: []\n",
      "Outliers using Isolation Forest:\n",
      "    feature1  feature2  outliers\n",
      "6       300        14        -1\n"
     ]
    }
   ],
   "source": [
    "import numpy as np\n",
    "import pandas as pd\n",
    "from sklearn.datasets import make_classification\n",
    "from sklearn.ensemble import IsolationForest\n",
    "from sklearn.preprocessing import StandardScaler\n",
    "import matplotlib.pyplot as plt\n",
    "import seaborn as sns\n",
    "\n",
    "# Create a sample dataset\n",
    "data = {'feature1': [10, 12, 11, 9, 12, 11, 300, 10, 9, 10],\n",
    "        'feature2': [15, 16, 15, 14, 18, 17, 14, 13, 16, 300]}\n",
    "df = pd.DataFrame(data)\n",
    "\n",
    "# Visualize data\n",
    "sns.boxplot(data=df)\n",
    "plt.show()\n",
    "\n",
    "# Identify outliers using z-scores\n",
    "z_scores = np.abs((df - df.mean()) / df.std())\n",
    "outliers = (z_scores > 3).any(axis=1)\n",
    "print(\"Outliers using z-scores:\\n\", df[outliers])\n",
    "\n",
    "# Identify outliers using Isolation Forest\n",
    "scaler = StandardScaler()\n",
    "data_scaled = scaler.fit_transform(df)\n",
    "iso = IsolationForest(contamination=0.1)\n",
    "df['outliers'] = iso.fit_predict(data_scaled)\n",
    "print(\"Outliers using Isolation Forest:\\n\", df[df['outliers'] == -1])\n"
   ]
  },
  {
   "cell_type": "code",
   "execution_count": null,
   "id": "db209d36-80ac-4e5f-9c65-462a97c9dc80",
   "metadata": {},
   "outputs": [],
   "source": []
  },
  {
   "cell_type": "markdown",
   "id": "01fce350-24b7-4027-af29-2000ec237177",
   "metadata": {},
   "source": [
    "Question 45: How can outliers be handled in a dataset?"
   ]
  },
  {
   "cell_type": "markdown",
   "id": "67c3e462-4a8c-44b3-ba96-1bc95f1398bd",
   "metadata": {},
   "source": [
    "Outliers can be handled in several ways:\n",
    "\n",
    "Remove Outliers: Simply removing outliers if they are deemed to be erroneous or not relevant to the analysis.\n",
    "Transform Data: Apply transformations like log or square root to reduce the impact of outliers.\n",
    "Cap and Floor: Set upper and lower bounds to limit the effect of extreme values.\n",
    "Imputation: Replace outliers with a statistical measure like mean or median.\n",
    "Robust Models: Use models that are less sensitive to outliers, like tree-based algorithms."
   ]
  },
  {
   "cell_type": "code",
   "execution_count": null,
   "id": "2fd7ef85-8b25-413d-bbe6-0e1c2166b72c",
   "metadata": {},
   "outputs": [],
   "source": []
  },
  {
   "cell_type": "markdown",
   "id": "58c52ad3-adb9-4883-9f8c-555a8a5208cf",
   "metadata": {},
   "source": [
    "Question 46: Compare and contrast Filter, Wrapper, and Embedded methods for feature selection."
   ]
  },
  {
   "cell_type": "markdown",
   "id": "285bb999-55bc-4732-9008-2d22d7ee31f3",
   "metadata": {},
   "source": [
    "Filter Methods:\n",
    "\n",
    "Description: Select features based on statistical measures without involving any machine learning algorithm.\n",
    "Example Algorithms: Chi-squared test, ANOVA, correlation coefficient.\n",
    "Advantages: Computationally efficient and quick to execute.\n",
    "Disadvantages: Ignores the interaction with the classifier, leading to potentially suboptimal feature subsets.\n",
    "\n",
    "\n",
    "Wrapper Methods:\n",
    "\n",
    "Description: Use a predictive model to evaluate the combination of features and select the best subset.\n",
    "Example Algorithms: Recursive Feature Elimination (RFE), Forward Selection, Backward Elimination.\n",
    "Advantages: Takes interaction with the classifier into account, often leading to better performance.\n",
    "Disadvantages: Computationally expensive and time-consuming, especially for large datasets.\n",
    "\n",
    "    \n",
    "Embedded Methods:\n",
    "\n",
    "Description: Feature selection is performed during the model training process.\n",
    "Example Algorithms: Lasso Regression, Ridge Regression, Decision Trees.\n",
    "Advantages: More efficient than wrapper methods, as feature selection is part of the training process.\n",
    "Disadvantages: Model-specific and may not be applicable to all types of classifiers."
   ]
  },
  {
   "cell_type": "code",
   "execution_count": null,
   "id": "65378d49-9929-46d0-ace1-dd39726186b8",
   "metadata": {},
   "outputs": [],
   "source": []
  },
  {
   "cell_type": "markdown",
   "id": "b8678c79-fe57-4f35-bc8e-b2451636cf43",
   "metadata": {},
   "source": [
    "Question 47: Provide examples of algorithms associated with each method."
   ]
  },
  {
   "cell_type": "markdown",
   "id": "fcce6615-bcb0-471c-9a76-3186475424c6",
   "metadata": {},
   "source": [
    "Filter Methods: Chi-squared test, ANOVA, correlation coefficient.\n",
    "Wrapper Methods: Recursive Feature Elimination (RFE), Forward Selection, Backward Elimination.\n",
    "Embedded Methods: Lasso Regression, Ridge Regression, Decision Trees.\n"
   ]
  },
  {
   "cell_type": "code",
   "execution_count": null,
   "id": "b4b733e6-2ae1-4ca8-b737-c02936d49d08",
   "metadata": {},
   "outputs": [],
   "source": []
  },
  {
   "cell_type": "markdown",
   "id": "8799a9a6-2641-4d20-808c-857d4e150f26",
   "metadata": {},
   "source": [
    "Question 48: Discuss the advantages and disadvantages of each feature selection method."
   ]
  },
  {
   "cell_type": "markdown",
   "id": "5c352569-7184-4b0b-9789-96fb354a5ff1",
   "metadata": {},
   "source": [
    "Filter Methods:\n",
    "\n",
    "Advantages: Simple, fast, and computationally inexpensive. Good for preliminary feature selection.\n",
    "Disadvantages: Does not consider feature dependencies or interactions with the model.\n",
    "    \n",
    "Wrapper Methods:\n",
    "\n",
    "Advantages: Considers feature interactions and dependencies, often leading to better model performance.\n",
    "Disadvantages: Computationally expensive and time-consuming, especially for large feature sets.\n",
    "    \n",
    "Embedded Methods:\n",
    "\n",
    "Advantages: Efficient and integrated into the model training process, balancing between performance and computation.\n",
    "Disadvantages: Model-specific, requiring different approaches for different types of models."
   ]
  },
  {
   "cell_type": "code",
   "execution_count": null,
   "id": "79a9978e-5c6e-415e-948b-9198ed3fac40",
   "metadata": {},
   "outputs": [],
   "source": []
  },
  {
   "cell_type": "markdown",
   "id": "aa0d25af-d8dd-45c6-bbc5-2cff2889c962",
   "metadata": {},
   "source": [
    "Question 49: Explain the concept of feature scaling."
   ]
  },
  {
   "cell_type": "markdown",
   "id": "b0698f1f-2fbe-4dfb-a758-5b7076476e17",
   "metadata": {},
   "source": [
    "Feature Scaling is the process of normalizing the range of features in a dataset to ensure they are on a similar scale. This is important for algorithms that are sensitive to the scale of data, such as gradient descent-based methods and distance-based algorithms."
   ]
  },
  {
   "cell_type": "code",
   "execution_count": null,
   "id": "fce7a446-bc35-47cd-a24d-d96497fd349b",
   "metadata": {},
   "outputs": [],
   "source": []
  },
  {
   "cell_type": "markdown",
   "id": "180f0072-0b09-4ae1-b4ec-dfd44cb955ea",
   "metadata": {},
   "source": [
    "Question 50: Describe the process of standardization."
   ]
  },
  {
   "cell_type": "markdown",
   "id": "0a4dcb9f-78af-4b2e-8f83-71eeb834b45d",
   "metadata": {},
   "source": [
    "Standardization involves rescaling the features to have a mean of zero and a standard deviation of one. This is done using the formula:\n",
    "\n",
    "𝑧\n",
    "=\n",
    "(\n",
    "𝑥\n",
    "−\n",
    "𝜇\n",
    ")\n",
    "𝜎\n",
    "z= \n",
    "σ\n",
    "(x−μ)\n",
    "​\n",
    " \n",
    "\n",
    "where \n",
    "𝑥\n",
    "x is the original value, \n",
    "𝜇\n",
    "μ is the mean of the feature, and \n",
    "𝜎\n",
    "σ is the standard deviation."
   ]
  },
  {
   "cell_type": "code",
   "execution_count": null,
   "id": "4aa499b9-ee78-4461-a98c-0b761aedc01c",
   "metadata": {},
   "outputs": [],
   "source": []
  },
  {
   "cell_type": "markdown",
   "id": "e97c0449-8994-45db-9a88-f43375105d79",
   "metadata": {},
   "source": [
    "Question 51: How does mean normalization differ from standardization?"
   ]
  },
  {
   "cell_type": "markdown",
   "id": "5bc3c6ff-aa98-46bb-bf9c-5a1f7ccf94c1",
   "metadata": {},
   "source": [
    "Mean Normalization adjusts the values so that the mean of the values is zero. The formula is:\n",
    "\n",
    "𝑥\n",
    "′\n",
    "=\n",
    "(\n",
    "𝑥\n",
    "−\n",
    "𝜇\n",
    ")\n",
    "(\n",
    "𝑥\n",
    "max\n",
    "−\n",
    "𝑥\n",
    "min\n",
    ")\n",
    "x \n",
    "′\n",
    " = \n",
    "(x \n",
    "max\n",
    "​\n",
    " −x \n",
    "min\n",
    "​\n",
    " )\n",
    "(x−μ)\n",
    "​\n",
    " \n",
    "\n",
    "where \n",
    "𝑥\n",
    "x is the original value, \n",
    "𝜇\n",
    "μ is the mean of the feature, \n",
    "𝑥\n",
    "max\n",
    "x \n",
    "max\n",
    "​\n",
    "  is the maximum value, and \n",
    "𝑥\n",
    "min\n",
    "x \n",
    "min\n",
    "​\n",
    "  is the minimum value. Unlike standardization, mean normalization scales the values based on the range of the feature.\n",
    "\n"
   ]
  },
  {
   "cell_type": "code",
   "execution_count": null,
   "id": "f1bb9cdf-c5ad-411e-8cfb-b455da7da959",
   "metadata": {},
   "outputs": [],
   "source": []
  },
  {
   "cell_type": "markdown",
   "id": "3c014f01-9067-4c8d-98b5-93fb13e64da2",
   "metadata": {},
   "source": [
    "Question 52: Discuss the advantages and disadvantages of Min-Max scaling."
   ]
  },
  {
   "cell_type": "markdown",
   "id": "6df68c7c-e505-4c6d-9d7a-e669eee2eed8",
   "metadata": {},
   "source": [
    "Advantages:\n",
    "\n",
    "Simple and easy to implement.\n",
    "Ensures that all features have the same scale, usually between 0 and 1, which can improve the performance of some algorithms.\n",
    "\n",
    "    \n",
    "Disadvantages:\n",
    "\n",
    "Sensitive to outliers, which can significantly affect the scaling.\n",
    "Does not reduce the impact of extreme values as effectively as other methods like standardization.\n"
   ]
  },
  {
   "cell_type": "code",
   "execution_count": null,
   "id": "11ddd847-aa39-464d-a87d-ab34c95f686a",
   "metadata": {},
   "outputs": [],
   "source": []
  },
  {
   "cell_type": "markdown",
   "id": "63e80885-7e76-486e-af83-c86fca241961",
   "metadata": {},
   "source": [
    "Question 53: What is the purpose of unit vector scaling?"
   ]
  },
  {
   "cell_type": "markdown",
   "id": "f9c5d2ba-9a22-439d-8f10-5c199b9b2e3e",
   "metadata": {},
   "source": [
    "Unit Vector Scaling scales the feature vectors such that the Euclidean norm (L2 norm) of each vector is 1. This technique is useful when the direction of the data is more important than the magnitude, ensuring that the model focuses on the direction rather than the scale of the vectors."
   ]
  },
  {
   "cell_type": "code",
   "execution_count": null,
   "id": "7ce5c8c2-dd1c-4617-98b7-0330276d1897",
   "metadata": {},
   "outputs": [],
   "source": []
  },
  {
   "cell_type": "markdown",
   "id": "542d2041-c6d5-47f1-8576-b53f0acf18bc",
   "metadata": {},
   "source": [
    "Question 54: Define Principal Component Analysis (PCA)."
   ]
  },
  {
   "cell_type": "markdown",
   "id": "d0bcc707-8994-408a-9549-af07272ddd0b",
   "metadata": {},
   "source": [
    "Principal Component Analysis (PCA) is a dimensionality reduction technique that transforms the original features into a new set of uncorrelated features called principal components. These principal components are ordered by the amount of variance they explain in the data. PCA helps in reducing the dimensionality of the dataset while retaining most of the variation in the data, making it easier to visualize and analyze."
   ]
  },
  {
   "cell_type": "code",
   "execution_count": 91,
   "id": "3c81f0ae-af40-437b-9c70-19a50ea1ec55",
   "metadata": {},
   "outputs": [
    {
     "name": "stdout",
     "output_type": "stream",
     "text": [
      "Explained variance ratio: [0.96296464 0.03703536]\n",
      "Principal components:\n",
      " [[-1.03068029 -0.21205314]\n",
      " [ 2.19045016  0.1689423 ]\n",
      " [-1.17818776  0.47577321]\n",
      " [-0.32329464  0.16119898]\n",
      " [-2.07219947 -0.25117173]\n",
      " [-1.10117414  0.2186533 ]\n",
      " [ 0.08785251 -0.43005447]\n",
      " [ 1.40605089  0.05281009]\n",
      " [ 0.53811824  0.02021127]\n",
      " [ 1.48306451 -0.20430982]]\n"
     ]
    }
   ],
   "source": [
    "from sklearn.decomposition import PCA\n",
    "import numpy as np\n",
    "import pandas as pd\n",
    "\n",
    "# Sample data\n",
    "data = np.array([[2.5, 2.4],\n",
    "                 [0.5, 0.7],\n",
    "                 [2.2, 2.9],\n",
    "                 [1.9, 2.2],\n",
    "                 [3.1, 3.0],\n",
    "                 [2.3, 2.7],\n",
    "                 [2, 1.6],\n",
    "                 [1, 1.1],\n",
    "                 [1.5, 1.6],\n",
    "                 [1.1, 0.9]])\n",
    "\n",
    "df = pd.DataFrame(data, columns=['Feature1', 'Feature2'])\n",
    "\n",
    "# Standardize data\n",
    "df_standardized = (df - df.mean()) / df.std()\n",
    "\n",
    "# Apply PCA\n",
    "pca = PCA(n_components=2)\n",
    "principal_components = pca.fit_transform(df_standardized)\n",
    "\n",
    "print(\"Explained variance ratio:\", pca.explained_variance_ratio_)\n",
    "print(\"Principal components:\\n\", principal_components)\n"
   ]
  },
  {
   "cell_type": "code",
   "execution_count": null,
   "id": "8fd82dbf-4489-496d-abd4-49d1b38a8830",
   "metadata": {},
   "outputs": [],
   "source": []
  },
  {
   "cell_type": "markdown",
   "id": "5fd4f3ae-f129-4497-8d06-dabcc556d89a",
   "metadata": {},
   "source": [
    "Question 55: Explain the steps involved in PCA."
   ]
  },
  {
   "cell_type": "markdown",
   "id": "d77b05c1-e8e2-48fc-9545-bdd87a0caf47",
   "metadata": {},
   "source": [
    "Principal Component Analysis (PCA) is a statistical procedure that transforms the original features into a new set of features called principal components, which are uncorrelated and ordered by the amount of variance they capture from the data. The steps involved in PCA are as follows:\n",
    "\n",
    "Standardize the Data: Center the data by subtracting the mean of each feature and scale it by dividing by the standard deviation.\n",
    "\n",
    "𝑧\n",
    "=\n",
    "(\n",
    "𝑥\n",
    "−\n",
    "𝜇\n",
    ")\n",
    "𝜎\n",
    "z= \n",
    "σ\n",
    "(x−μ)\n",
    "​\n",
    " \n",
    "\n",
    "Compute the Covariance Matrix: Calculate the covariance matrix to understand the relationships between different features.\n",
    "\n",
    "Cov\n",
    "(\n",
    "𝑋\n",
    ")\n",
    "=\n",
    "1\n",
    "𝑛\n",
    "−\n",
    "1\n",
    "(\n",
    "𝑋\n",
    "𝑇\n",
    "𝑋\n",
    ")\n",
    "Cov(X)= \n",
    "n−1\n",
    "1\n",
    "​\n",
    " (X \n",
    "T\n",
    " X)\n",
    "\n",
    "Compute the Eigenvalues and Eigenvectors: Calculate the eigenvalues and eigenvectors of the covariance matrix to identify the principal components.\n",
    "\n",
    "Sort Eigenvalues and Eigenvectors: Sort the eigenvalues in descending order and arrange the corresponding eigenvectors accordingly.\n",
    "\n",
    "Select Principal Components: Choose the top k eigenvectors that correspond to the k largest eigenvalues to form a new feature space.\n",
    "\n",
    "Transform the Data: Project the original data onto the new feature space using the selected eigenvectors.\n",
    "\n",
    "𝑍\n",
    "=\n",
    "𝑋\n",
    "𝑊\n",
    "Z=XW\n",
    "\n",
    "where \n",
    "𝑊\n",
    "W is the matrix of the selected eigenvectors."
   ]
  },
  {
   "cell_type": "code",
   "execution_count": null,
   "id": "9c1bdcc7-412b-45ba-a4f1-497d04d42c53",
   "metadata": {},
   "outputs": [],
   "source": []
  },
  {
   "cell_type": "markdown",
   "id": "67612726-c75a-4b5f-806c-ebe63b928cff",
   "metadata": {},
   "source": [
    "Question 56: Discuss the significance of eigenvalues and eigenvectors in PCA."
   ]
  },
  {
   "cell_type": "markdown",
   "id": "c407c27c-b0bd-4584-b3a1-74bc1aca4cbe",
   "metadata": {},
   "source": [
    "Eigenvalues and eigenvectors are critical in PCA because:\n",
    "\n",
    "Eigenvalues: Indicate the amount of variance captured by each principal component. Higher eigenvalues correspond to components that capture more variance.\n",
    "Eigenvectors: Represent the direction of the principal components in the feature space. These vectors define the new axes onto which the original data is projected.\n",
    "The principal components are the eigenvectors of the covariance matrix, and their corresponding eigenvalues indicate the significance of each component.\n",
    "\n"
   ]
  },
  {
   "cell_type": "code",
   "execution_count": null,
   "id": "d3bff089-c226-4493-a008-92dc3e3e07d3",
   "metadata": {},
   "outputs": [],
   "source": []
  },
  {
   "cell_type": "markdown",
   "id": "c089c899-9924-457a-9e21-c3c142a20b04",
   "metadata": {},
   "source": [
    "Question 57: How does PCA help in dimensionality reduction?"
   ]
  },
  {
   "cell_type": "markdown",
   "id": "16f6a080-aa62-4da4-9cf6-d9487c5469f5",
   "metadata": {},
   "source": [
    "PCA helps in dimensionality reduction by transforming the original data into a lower-dimensional space while retaining most of the variance. This is achieved by:\n",
    "\n",
    "Capturing Variance: Selecting the top k principal components that capture the maximum variance from the data.\n",
    "Reducing Complexity: Reducing the number of features while preserving the essential structure and relationships in the data.\n",
    "Improving Efficiency: Making the data easier to visualize and reducing computational costs for subsequent analysis."
   ]
  },
  {
   "cell_type": "code",
   "execution_count": null,
   "id": "0de12a2c-a6fa-4e22-8b53-dc6076879533",
   "metadata": {},
   "outputs": [],
   "source": []
  },
  {
   "cell_type": "markdown",
   "id": "7c2a6776-ed7c-4a48-a71c-81717078fb16",
   "metadata": {},
   "source": [
    "Question 58: Define data encoding and its importance in machine learning."
   ]
  },
  {
   "cell_type": "markdown",
   "id": "7b972faa-9f10-45e1-bc3b-3c8e1a2fa4a2",
   "metadata": {},
   "source": [
    "Data Encoding refers to the process of converting categorical data into numerical form so that machine learning algorithms can process it. It is important because most machine learning algorithms require numerical input and cannot directly handle categorical data."
   ]
  },
  {
   "cell_type": "code",
   "execution_count": null,
   "id": "f123b0c7-4f8d-486f-8fa4-d4e3feec8d4e",
   "metadata": {},
   "outputs": [],
   "source": []
  },
  {
   "cell_type": "markdown",
   "id": "3cbad88a-393a-48d5-a16b-06d53fe37161",
   "metadata": {},
   "source": [
    "Question 59: Explain Nominal Encoding and provide an example.\n"
   ]
  },
  {
   "cell_type": "markdown",
   "id": "f2e07a40-32fc-4e8e-9072-8ed3c10e3ce5",
   "metadata": {},
   "source": [
    "Nominal Encoding converts categorical data into numerical form without implying any order or ranking among the categories.\n",
    "\n",
    "Example:\n",
    "Using LabelEncoder from sklearn to encode nominal data:"
   ]
  },
  {
   "cell_type": "code",
   "execution_count": 98,
   "id": "68f12ca8-ab62-44c8-b6d0-ccb698c74248",
   "metadata": {},
   "outputs": [
    {
     "name": "stdout",
     "output_type": "stream",
     "text": [
      "[2 1 0]\n"
     ]
    }
   ],
   "source": [
    "from sklearn.preprocessing import LabelEncoder\n",
    "\n",
    "data = ['red', 'green', 'blue']\n",
    "label_encoder = LabelEncoder()\n",
    "encoded_data = label_encoder.fit_transform(data)\n",
    "print(encoded_data)\n"
   ]
  },
  {
   "cell_type": "code",
   "execution_count": null,
   "id": "4ee0d5f9-0466-4d28-bb78-d9e27287c495",
   "metadata": {},
   "outputs": [],
   "source": []
  },
  {
   "cell_type": "markdown",
   "id": "899e71f8-6495-4825-9f03-4b1972562ba3",
   "metadata": {},
   "source": [
    "Question 60: Discuss the process of One Hot Encoding."
   ]
  },
  {
   "cell_type": "markdown",
   "id": "ea7d4cde-dde5-4cf5-ae9d-a696d8087b3b",
   "metadata": {},
   "source": [
    "One Hot Encoding converts categorical data into a binary vector representation, where each category is represented by a vector with a single high (1) value and the rest low (0).\n",
    "\n",
    "Example:\n",
    "Using OneHotEncoder from sklearn:"
   ]
  },
  {
   "cell_type": "code",
   "execution_count": null,
   "id": "15a2b107-b2d8-490b-9eff-14dcbf96dec5",
   "metadata": {},
   "outputs": [],
   "source": []
  },
  {
   "cell_type": "markdown",
   "id": "e557b21c-16ef-4756-b564-d54d123b3ea4",
   "metadata": {},
   "source": [
    "Question 61: How do you handle multiple categories in One Hot Encoding?"
   ]
  },
  {
   "cell_type": "markdown",
   "id": "f465083a-1802-4bd3-bdf1-9c2ae5dbec4d",
   "metadata": {},
   "source": [
    "One Hot Encoding handles multiple categories by creating a binary vector for each category. For instance, if there are three categories ('red', 'green', 'blue'), One Hot Encoding creates three binary vectors, each with a single high (1) value and the rest low (0)."
   ]
  },
  {
   "cell_type": "code",
   "execution_count": null,
   "id": "34c95e74-e891-49fc-bdb6-514ba81427b5",
   "metadata": {},
   "outputs": [],
   "source": []
  },
  {
   "cell_type": "markdown",
   "id": "96f8f2e4-b3c3-4435-bac6-6ae1e1c6a603",
   "metadata": {},
   "source": [
    "Question 62: Explain Mean Encoding and its advantages."
   ]
  },
  {
   "cell_type": "markdown",
   "id": "175d900c-578d-4683-9712-3d73bf38528a",
   "metadata": {},
   "source": [
    "Mean Encoding (also known as target encoding) replaces each category with the mean of the target variable for that category.\n",
    "\n",
    "Advantages:\n",
    "\n",
    "Captures Target Relationship: Takes into account the relationship between the category and the target variable.\n",
    "Reduces Dimensionality: Unlike One Hot Encoding, it doesn't increase the dimensionality of the dataset.\n"
   ]
  },
  {
   "cell_type": "code",
   "execution_count": 109,
   "id": "af3d8951-a86b-4b81-9397-5dea461d4f17",
   "metadata": {},
   "outputs": [
    {
     "name": "stdout",
     "output_type": "stream",
     "text": [
      "   color  target  color_mean_encoded\n",
      "0    red       1                 1.0\n",
      "1  green       0                 0.0\n",
      "2   blue       1                 0.5\n",
      "3    red       1                 1.0\n",
      "4   blue       0                 0.5\n"
     ]
    }
   ],
   "source": [
    "import pandas as pd\n",
    "\n",
    "data = pd.DataFrame({'color': ['red', 'green', 'blue', 'red', 'blue'],\n",
    "                     'target': [1, 0, 1, 1, 0]})\n",
    "\n",
    "mean_encoded = data.groupby('color')['target'].mean()\n",
    "data['color_mean_encoded'] = data['color'].map(mean_encoded)\n",
    "print(data)\n"
   ]
  },
  {
   "cell_type": "code",
   "execution_count": null,
   "id": "2293ebda-be17-4a74-905b-47a299fc9e97",
   "metadata": {},
   "outputs": [],
   "source": []
  },
  {
   "cell_type": "markdown",
   "id": "188706a1-bf7e-4ccd-b086-74953f278815",
   "metadata": {},
   "source": [
    "Question 63: Provide examples of Ordinal Encoding and Label Encoding."
   ]
  },
  {
   "cell_type": "code",
   "execution_count": 113,
   "id": "4d4f8f4b-4f5b-4a5f-be29-e2515b85e169",
   "metadata": {},
   "outputs": [],
   "source": [
    "#Ordinal Encoding"
   ]
  },
  {
   "cell_type": "code",
   "execution_count": 111,
   "id": "a4c9f046-a1c2-4ca8-8aaa-3acb604ecfe7",
   "metadata": {},
   "outputs": [
    {
     "name": "stdout",
     "output_type": "stream",
     "text": [
      "     size  size_encoded\n",
      "0   small             1\n",
      "1  medium             2\n",
      "2   large             3\n"
     ]
    }
   ],
   "source": [
    "import pandas as pd\n",
    "\n",
    "data = pd.DataFrame({'size': ['small', 'medium', 'large']})\n",
    "data['size_encoded'] = data['size'].map({'small': 1, 'medium': 2, 'large': 3})\n",
    "print(data)\n"
   ]
  },
  {
   "cell_type": "code",
   "execution_count": 115,
   "id": "1a81174b-546b-4f5a-8536-9d75587a4313",
   "metadata": {},
   "outputs": [],
   "source": [
    "#Label Encoding"
   ]
  },
  {
   "cell_type": "code",
   "execution_count": 117,
   "id": "61715290-6221-4415-ab4e-7b9ff3de44e8",
   "metadata": {},
   "outputs": [
    {
     "name": "stdout",
     "output_type": "stream",
     "text": [
      "[2 1 0]\n"
     ]
    }
   ],
   "source": [
    "from sklearn.preprocessing import LabelEncoder\n",
    "\n",
    "data = ['red', 'green', 'blue']\n",
    "label_encoder = LabelEncoder()\n",
    "encoded_data = label_encoder.fit_transform(data)\n",
    "print(encoded_data)\n"
   ]
  },
  {
   "cell_type": "code",
   "execution_count": null,
   "id": "60011f40-ddbb-4e3d-9962-78f26d07aa7f",
   "metadata": {},
   "outputs": [],
   "source": []
  },
  {
   "cell_type": "markdown",
   "id": "8ac07a7d-79e2-4764-a59c-1e0eda871b3f",
   "metadata": {},
   "source": [
    "Question 64: What is Target Guided Ordinal Encoding and how is it used?"
   ]
  },
  {
   "cell_type": "markdown",
   "id": "3161f8b1-f710-42ee-afb8-95f67674c0a5",
   "metadata": {},
   "source": [
    "Target Guided Ordinal Encoding assigns numerical values to categories based on the mean of the target variable for each category, thus preserving the ordinal relationship between categories and the target."
   ]
  },
  {
   "cell_type": "code",
   "execution_count": 120,
   "id": "3b404248-0f61-4a6b-a291-a4f9d963d122",
   "metadata": {},
   "outputs": [
    {
     "name": "stdout",
     "output_type": "stream",
     "text": [
      "   color  target  color_ordinal_encoded\n",
      "0    red       1                      3\n",
      "1  green       0                      1\n",
      "2   blue       1                      2\n",
      "3    red       1                      3\n",
      "4   blue       0                      2\n"
     ]
    }
   ],
   "source": [
    "import pandas as pd\n",
    "\n",
    "data = pd.DataFrame({'color': ['red', 'green', 'blue', 'red', 'blue'],\n",
    "                     'target': [1, 0, 1, 1, 0]})\n",
    "\n",
    "mean_encoded = data.groupby('color')['target'].mean().sort_values()\n",
    "ordinal_encoding = {k: i for i, k in enumerate(mean_encoded.index, 1)}\n",
    "data['color_ordinal_encoded'] = data['color'].map(ordinal_encoding)\n",
    "print(data)\n"
   ]
  },
  {
   "cell_type": "code",
   "execution_count": null,
   "id": "544015fc-c9db-4d1a-b5be-0ccb08afe9de",
   "metadata": {},
   "outputs": [],
   "source": []
  },
  {
   "cell_type": "markdown",
   "id": "918a2ece-02ac-440f-a2f9-f24031d654b7",
   "metadata": {},
   "source": [
    "Question 65: Define covariance and its significance in statistics."
   ]
  },
  {
   "cell_type": "markdown",
   "id": "1abb6b6b-ac56-462a-bbf0-33d4122af533",
   "metadata": {},
   "source": [
    "Covariance measures the degree to which two random variables change together. It indicates the direction of the linear relationship between variables. A positive covariance indicates that higher values of one variable tend to be associated with higher values of the other, while a negative covariance indicates an inverse relationship.\n",
    "\n",
    "Significance:\n",
    "\n",
    "Helps understand how variables are related to each other.\n",
    "Used in portfolio management to understand the relationship between different assets.\n",
    "Used in statistics for dimensionality reduction techniques like Principal Component Analysis (PCA)."
   ]
  },
  {
   "cell_type": "code",
   "execution_count": 143,
   "id": "e7b6e274-6504-4f9b-8ad7-2cb88b7b492e",
   "metadata": {},
   "outputs": [
    {
     "name": "stdout",
     "output_type": "stream",
     "text": [
      "Covariance between x and y: -2.5\n"
     ]
    }
   ],
   "source": [
    "import numpy as np\n",
    "\n",
    "# Example data\n",
    "x = np.array([1, 2, 3, 4, 5])\n",
    "y = np.array([5, 4, 3, 2, 1])\n",
    "\n",
    "# Calculate covariance\n",
    "covariance = np.cov(x, y)[0, 1]\n",
    "\n",
    "print(f\"Covariance between x and y: {covariance}\")\n"
   ]
  },
  {
   "cell_type": "code",
   "execution_count": null,
   "id": "cca46399-47a8-4766-83da-17395584f9a6",
   "metadata": {},
   "outputs": [],
   "source": []
  },
  {
   "cell_type": "markdown",
   "id": "b6c6bf3a-47e8-4f66-a112-56d82bb7d47a",
   "metadata": {},
   "source": [
    "Question 66: Explain the process of correlation check."
   ]
  },
  {
   "cell_type": "markdown",
   "id": "1b41ca29-2a01-42e6-ba59-81ff9b2de65e",
   "metadata": {},
   "source": [
    "Correlation check involves assessing the strength and direction of association between two variables:\n",
    "\n",
    "Calculate Correlation Coefficient: Typically using methods like Pearson's correlation coefficient.\n",
    "Interpret Coefficient: Ranges from -1 to +1; closer to -1 or +1 indicates strong correlation.\n",
    "Visualize: Scatter plots can provide a visual representation of the relationship.\n"
   ]
  },
  {
   "cell_type": "code",
   "execution_count": 185,
   "id": "2e2d354e-e3e8-4e78-9a1e-6d7b530057bb",
   "metadata": {},
   "outputs": [
    {
     "name": "stdout",
     "output_type": "stream",
     "text": [
      "Pearson Correlation Coefficient Matrix:\n",
      "     A    B\n",
      "A  1.0 -1.0\n",
      "B -1.0  1.0\n"
     ]
    }
   ],
   "source": [
    "import pandas as pd\n",
    "\n",
    "data = pd.DataFrame({\n",
    "    'A': [1, 2, 3, 4, 5],\n",
    "    'B': [5, 4, 3, 2, 1]\n",
    "})\n",
    "\n",
    "correlation_matrix = data.corr(method='pearson')\n",
    "\n",
    "print(\"Pearson Correlation Coefficient Matrix:\")\n",
    "print(correlation_matrix)\n"
   ]
  },
  {
   "cell_type": "code",
   "execution_count": null,
   "id": "277a26fb-1828-453f-95a3-1c30c189a220",
   "metadata": {},
   "outputs": [],
   "source": []
  },
  {
   "cell_type": "markdown",
   "id": "31e2165a-1989-4e0a-a363-84c9beb84fbd",
   "metadata": {},
   "source": [
    "Question 67: What is the Pearson Correlation Coefficient?"
   ]
  },
  {
   "cell_type": "markdown",
   "id": "d959a9fb-b131-499a-96eb-1949231f7b57",
   "metadata": {},
   "source": [
    "Pearson Correlation Coefficient measures the linear relationship between two continuous variables. It is calculated as the covariance of the variables divided by the product of their standard deviations. It ranges from -1 (perfect negative correlation) to +1 (perfect positive correlation), with 0 indicating no linear correlation."
   ]
  },
  {
   "cell_type": "code",
   "execution_count": 191,
   "id": "a4cdd876-4814-4eaa-afa4-1ca7f5b968b6",
   "metadata": {},
   "outputs": [
    {
     "name": "stdout",
     "output_type": "stream",
     "text": [
      "Pearson Correlation Coefficient between x and y: -0.9999999999999999\n"
     ]
    }
   ],
   "source": [
    "import numpy as np\n",
    "\n",
    "# Example data\n",
    "x = np.array([1, 2, 3, 4, 5])\n",
    "y = np.array([5, 4, 3, 2, 1])\n",
    "\n",
    "# Calculate Pearson correlation coefficient\n",
    "pearson_coefficient = np.corrcoef(x, y)[0, 1]\n",
    "\n",
    "print(f\"Pearson Correlation Coefficient between x and y: {pearson_coefficient}\")\n"
   ]
  },
  {
   "cell_type": "code",
   "execution_count": null,
   "id": "a4900f91-ab0b-4c61-8679-45d05c4f0aa0",
   "metadata": {},
   "outputs": [],
   "source": []
  },
  {
   "cell_type": "markdown",
   "id": "8281b06f-e282-40bb-acf6-8b7e676c6721",
   "metadata": {},
   "source": [
    "Question 68: How does Spearman's Rank Correlation differ from Pearson's Correlation?"
   ]
  },
  {
   "cell_type": "markdown",
   "id": "5809dd78-2af1-4f9b-8f70-90cb7a438dea",
   "metadata": {},
   "source": [
    "Spearman’s Rank Correlation assesses how well the relationship between two variables can be described using a monotonic function. It does not assume that the relationship is linear, making it suitable for ordinal or non-linear data. Pearson's correlation, on the other hand, measures linear relationships specifically.\n",
    "\n"
   ]
  },
  {
   "cell_type": "code",
   "execution_count": 193,
   "id": "6529e9b2-cb8d-4df5-90eb-f89f56f647a3",
   "metadata": {},
   "outputs": [
    {
     "name": "stdout",
     "output_type": "stream",
     "text": [
      "Spearman's Rank Correlation Matrix:\n",
      "     A    B\n",
      "A  1.0 -1.0\n",
      "B -1.0  1.0\n"
     ]
    }
   ],
   "source": [
    "spearman_corr = data.corr(method='spearman')\n",
    "\n",
    "print(\"Spearman's Rank Correlation Matrix:\")\n",
    "print(spearman_corr)\n"
   ]
  },
  {
   "cell_type": "code",
   "execution_count": null,
   "id": "8a31bf2c-df48-4a76-bbb7-d24a10351ab5",
   "metadata": {},
   "outputs": [],
   "source": []
  },
  {
   "cell_type": "markdown",
   "id": "78e25875-6313-4a9a-b090-6595c410ce4d",
   "metadata": {},
   "source": [
    "Question 69: Discuss the importance of Variance Inflation Factor (VIF) in feature selection."
   ]
  },
  {
   "cell_type": "markdown",
   "id": "c1b0c90f-3a9d-4ea3-a25f-8fd65757244b",
   "metadata": {},
   "source": [
    "Variance Inflation Factor (VIF) measures how much the variance of an estimated regression coefficient is inflated due to collinearity with other predictors. High VIF values indicate that a predictor variable is highly correlated with other predictors, which can lead to unreliable regression coefficients.\n",
    "\n",
    "Importance:\n",
    "\n",
    "Helps identify multicollinearity in regression models.\n",
    "Guides in selecting independent variables that are less correlated with each other.\n"
   ]
  },
  {
   "cell_type": "code",
   "execution_count": 195,
   "id": "d3e792dc-ca11-4918-871b-148219f8f3da",
   "metadata": {},
   "outputs": [
    {
     "name": "stdout",
     "output_type": "stream",
     "text": [
      "Variance Inflation Factor (VIF) Results:\n",
      "  Feature       VIF\n",
      "0       A  1.680556\n",
      "1       B  1.680556\n"
     ]
    }
   ],
   "source": [
    "from statsmodels.stats.outliers_influence import variance_inflation_factor\n",
    "\n",
    "X = data[['A', 'B']]\n",
    "\n",
    "# Calculate VIF\n",
    "vif_data = pd.DataFrame()\n",
    "vif_data[\"Feature\"] = X.columns\n",
    "vif_data[\"VIF\"] = [variance_inflation_factor(X.values, i) for i in range(len(X.columns))]\n",
    "\n",
    "print(\"Variance Inflation Factor (VIF) Results:\")\n",
    "print(vif_data)\n"
   ]
  },
  {
   "cell_type": "code",
   "execution_count": null,
   "id": "fcb53eab-39b8-4062-86ea-bad5409c7cf8",
   "metadata": {},
   "outputs": [],
   "source": []
  },
  {
   "cell_type": "markdown",
   "id": "72854722-5bc3-4e88-bd2b-71295f202252",
   "metadata": {},
   "source": [
    "Question 70: Define feature selection and its purpose."
   ]
  },
  {
   "cell_type": "markdown",
   "id": "6b9d1e7b-aff5-4172-ae35-0bbd55e47f18",
   "metadata": {},
   "source": [
    "Feature Selection is the process of choosing a subset of relevant features (variables, predictors) for use in model construction.\n",
    "\n",
    "Purpose:\n",
    "\n",
    "Reduces overfitting by removing irrelevant features.\n",
    "Improves model interpretability and performance.\n",
    "Reduces computational complexity.\n"
   ]
  },
  {
   "cell_type": "code",
   "execution_count": 197,
   "id": "58da2554-8450-473c-a518-927c3b87dda5",
   "metadata": {},
   "outputs": [
    {
     "name": "stdout",
     "output_type": "stream",
     "text": [
      "Selected Features:\n",
      "(150, 2)\n"
     ]
    }
   ],
   "source": [
    "from sklearn.datasets import load_iris\n",
    "from sklearn.feature_selection import SelectKBest, chi2\n",
    "\n",
    "\n",
    "iris = load_iris()\n",
    "X, y = iris.data, iris.target\n",
    "\n",
    "k_best_features = SelectKBest(score_func=chi2, k=2)\n",
    "X_selected = k_best_features.fit_transform(X, y)\n",
    "\n",
    "print(\"Selected Features:\")\n",
    "print(X_selected.shape)\n"
   ]
  },
  {
   "cell_type": "code",
   "execution_count": null,
   "id": "888f01be-7c04-44f9-8a97-9d22d7b23dd0",
   "metadata": {},
   "outputs": [],
   "source": []
  },
  {
   "cell_type": "markdown",
   "id": "ad12acbb-4778-40cb-808b-9d9bffa01004",
   "metadata": {},
   "source": [
    "Question 71: Explain the process of Recursive Feature Elimination."
   ]
  },
  {
   "cell_type": "markdown",
   "id": "ba16b01a-403b-4d61-9a2f-2c4e98f25556",
   "metadata": {},
   "source": [
    "Recursive Feature Elimination (RFE):\n",
    "\n",
    "Process: Iteratively removes features and builds a model, evaluating the model performance after each removal.\n",
    "Selection Criterion: Typically based on model performance metrics (e.g., accuracy, R-squared).\n",
    "Stop Criterion: Stops when the desired number of features is reached or when performance no longer improves.\n"
   ]
  },
  {
   "cell_type": "code",
   "execution_count": 199,
   "id": "c3d34a4a-f603-488f-a47f-af379cc39b7f",
   "metadata": {},
   "outputs": [
    {
     "name": "stdout",
     "output_type": "stream",
     "text": [
      "Selected Features with RFE:\n",
      "(150, 2)\n"
     ]
    }
   ],
   "source": [
    "from sklearn.feature_selection import RFE\n",
    "from sklearn.linear_model import LogisticRegression\n",
    "\n",
    "\n",
    "estimator = LogisticRegression(max_iter=1000)\n",
    "rfe = RFE(estimator, n_features_to_select=2)\n",
    "X_rfe = rfe.fit_transform(X, y)\n",
    "\n",
    "print(\"Selected Features with RFE:\")\n",
    "print(X_rfe.shape)\n"
   ]
  },
  {
   "cell_type": "code",
   "execution_count": null,
   "id": "aa4f7f2c-b057-4890-a22d-a3f4450e7a87",
   "metadata": {},
   "outputs": [],
   "source": []
  },
  {
   "cell_type": "markdown",
   "id": "5ead3a0e-aae6-46d0-9793-0bcaf1716648",
   "metadata": {},
   "source": [
    "Question 72: How does Backward Elimination work?"
   ]
  },
  {
   "cell_type": "markdown",
   "id": "e232f049-e76a-4f1b-b075-ac35c68451b7",
   "metadata": {},
   "source": [
    "Backward Elimination:\n",
    "\n",
    "Process: Starts with all features and iteratively removes the least significant feature based on a predefined criterion (e.g., p-value in regression).\n",
    "Advantages: Efficient for datasets with a large number of features.\n",
    "Disadvantages: Assumes the model is correctly specified from the beginning.\n"
   ]
  },
  {
   "cell_type": "code",
   "execution_count": 201,
   "id": "6cf4d796-f26e-41d9-a054-46457dd9b18b",
   "metadata": {},
   "outputs": [
    {
     "name": "stdout",
     "output_type": "stream",
     "text": [
      "Features after Backward Elimination:\n",
      "                                 OLS Regression Results                                \n",
      "=======================================================================================\n",
      "Dep. Variable:                      y   R-squared (uncentered):                   0.972\n",
      "Model:                            OLS   Adj. R-squared (uncentered):              0.971\n",
      "Method:                 Least Squares   F-statistic:                              1699.\n",
      "Date:                Wed, 17 Jul 2024   Prob (F-statistic):                   7.71e-114\n",
      "Time:                        16:49:28   Log-Likelihood:                          16.921\n",
      "No. Observations:                 150   AIC:                                     -27.84\n",
      "Df Residuals:                     147   BIC:                                     -18.81\n",
      "Df Model:                           3                                                  \n",
      "Covariance Type:            nonrobust                                                  \n",
      "==============================================================================\n",
      "                 coef    std err          t      P>|t|      [0.025      0.975]\n",
      "------------------------------------------------------------------------------\n",
      "1             -0.1042      0.012     -8.629      0.000      -0.128      -0.080\n",
      "3              0.2406      0.042      5.743      0.000       0.158       0.323\n",
      "4              0.5866      0.088      6.659      0.000       0.413       0.761\n",
      "==============================================================================\n",
      "Omnibus:                        0.462   Durbin-Watson:                   1.162\n",
      "Prob(Omnibus):                  0.794   Jarque-Bera (JB):                0.184\n",
      "Skew:                          -0.041   Prob(JB):                        0.912\n",
      "Kurtosis:                       3.150   Cond. No.                         39.5\n",
      "==============================================================================\n",
      "\n",
      "Notes:\n",
      "[1] R² is computed without centering (uncentered) since the model does not contain a constant.\n",
      "[2] Standard Errors assume that the covariance matrix of the errors is correctly specified.\n"
     ]
    }
   ],
   "source": [
    "import statsmodels.api as sm\n",
    "import pandas as pd\n",
    "\n",
    "X = sm.add_constant(X)\n",
    "\n",
    "X_df = pd.DataFrame(X)\n",
    "\n",
    "model = sm.OLS(y, X_df).fit()\n",
    "\n",
    "while model.pvalues.max() > 0.05:\n",
    "    # Identify the feature with the highest p-value\n",
    "    max_pvalue_feature = model.pvalues.idxmax()\n",
    "    \n",
    "    \n",
    "    X_df = X_df.drop(columns=[max_pvalue_feature])\n",
    "    \n",
    "    \n",
    "    model = sm.OLS(y, X_df).fit()\n",
    "\n",
    "print(\"Features after Backward Elimination:\")\n",
    "print(model.summary())\n"
   ]
  },
  {
   "cell_type": "code",
   "execution_count": null,
   "id": "46937364-4a06-473e-93da-8d4b8e60a6a8",
   "metadata": {},
   "outputs": [],
   "source": []
  },
  {
   "cell_type": "markdown",
   "id": "c998e97b-a591-4611-84fd-0508b83a4b06",
   "metadata": {},
   "source": [
    "Question 73: Discuss the advantages and limitations of Forward Elimination."
   ]
  },
  {
   "cell_type": "markdown",
   "id": "e50ae37e-9227-414a-a86d-e55f30cf748f",
   "metadata": {},
   "source": [
    "Advantages:\n",
    "\n",
    "Sequentially builds the model, starting from the most significant feature.\n",
    "Can be effective for datasets where each added feature improves model performance.\n",
    "\n",
    "Limitations:\n",
    "\n",
    "Computationally expensive, especially for large datasets.\n",
    "May overfit the model if not cross-validated properly."
   ]
  },
  {
   "cell_type": "code",
   "execution_count": 203,
   "id": "8ff84168-9e3c-401f-8cfb-a6dceef9b38c",
   "metadata": {},
   "outputs": [
    {
     "name": "stdout",
     "output_type": "stream",
     "text": [
      "Selected Features with Forward Selection:\n",
      "(150, 2)\n"
     ]
    }
   ],
   "source": [
    "from sklearn.feature_selection import SequentialFeatureSelector\n",
    "\n",
    "selector = SequentialFeatureSelector(estimator, direction='forward', n_features_to_select=2)\n",
    "X_forward = selector.fit_transform(X, y)\n",
    "\n",
    "print(\"Selected Features with Forward Selection:\")\n",
    "print(X_forward.shape)\n"
   ]
  },
  {
   "cell_type": "code",
   "execution_count": null,
   "id": "fa5d6554-f864-42b4-a952-8879ae0dc413",
   "metadata": {},
   "outputs": [],
   "source": []
  },
  {
   "cell_type": "markdown",
   "id": "07611dcc-e79d-4648-a58f-a9a76295c9e0",
   "metadata": {},
   "source": [
    "Question 74: What is feature engineering and why is it important?"
   ]
  },
  {
   "cell_type": "markdown",
   "id": "31a8dfc6-9fdb-4fd6-a570-e401ecc93d17",
   "metadata": {},
   "source": [
    "Feature Engineering involves creating new features or transforming existing ones to improve model performance or understanding of the dataset.\n",
    "\n",
    "Importance:\n",
    "\n",
    "Enhances model accuracy by providing more predictive features.\n",
    "Improves model interpretability.\n",
    "Mitigates issues like overfitting and underfitting."
   ]
  },
  {
   "cell_type": "code",
   "execution_count": 207,
   "id": "fdf5e24f-5f8b-4e5c-91c8-aac44d43c2c9",
   "metadata": {},
   "outputs": [
    {
     "name": "stdout",
     "output_type": "stream",
     "text": [
      "Original data:\n",
      "[[1 2]\n",
      " [3 4]\n",
      " [5 6]]\n",
      "\n",
      "Polynomial features:\n",
      "[[ 1.  1.  2.  1.  2.  4.]\n",
      " [ 1.  3.  4.  9. 12. 16.]\n",
      " [ 1.  5.  6. 25. 30. 36.]]\n"
     ]
    }
   ],
   "source": [
    "from sklearn.preprocessing import PolynomialFeatures\n",
    "import numpy as np\n",
    "\n",
    "# Sample data\n",
    "X = np.array([[1, 2],\n",
    "              [3, 4],\n",
    "              [5, 6]])\n",
    "\n",
    "# Create polynomial features\n",
    "poly = PolynomialFeatures(degree=2)\n",
    "X_poly = poly.fit_transform(X)\n",
    "\n",
    "print(\"Original data:\")\n",
    "print(X)\n",
    "print(\"\\nPolynomial features:\")\n",
    "print(X_poly)\n"
   ]
  },
  {
   "cell_type": "code",
   "execution_count": null,
   "id": "a231f7de-0a24-42e1-8bb7-789edc290685",
   "metadata": {},
   "outputs": [],
   "source": []
  },
  {
   "cell_type": "markdown",
   "id": "2e9868bd-3a92-4c51-a68f-da9d693373fc",
   "metadata": {},
   "source": [
    "Question 75: Discuss the steps involved in feature engineering."
   ]
  },
  {
   "cell_type": "markdown",
   "id": "b5257aed-539a-4b48-9c93-7e2f6ebb4264",
   "metadata": {},
   "source": [
    "Steps:\n",
    "\n",
    "Brainstorming: Generate ideas for new features based on domain knowledge.\n",
    "Feature Creation: Construct new features from existing data.\n",
    "Feature Transformation: Apply transformations like scaling or encoding.\n",
    "Feature Selection: Choose relevant features using techniques like correlation check or domain expertise validation."
   ]
  },
  {
   "cell_type": "code",
   "execution_count": 209,
   "id": "e04829ad-1215-4e15-bead-883efd6b347c",
   "metadata": {},
   "outputs": [
    {
     "name": "stdout",
     "output_type": "stream",
     "text": [
      "Data with date-time features:\n",
      "        date  value  year  month\n",
      "0 2023-01-01     10  2023      1\n",
      "1 2023-02-01     20  2023      2\n",
      "2 2023-03-01     30  2023      3\n"
     ]
    }
   ],
   "source": [
    "data = pd.DataFrame({\n",
    "    'date': ['2023-01-01', '2023-02-01', '2023-03-01'],\n",
    "    'value': [10, 20, 30]\n",
    "})\n",
    "\n",
    "data['date'] = pd.to_datetime(data['date'])\n",
    "\n",
    "data['year'] = data['date'].dt.year\n",
    "data['month'] = data['date'].dt.month\n",
    "\n",
    "print(\"Data with date-time features:\")\n",
    "print(data)\n"
   ]
  },
  {
   "cell_type": "code",
   "execution_count": null,
   "id": "c25db58c-7c38-46e1-a078-8a5b6df6774a",
   "metadata": {},
   "outputs": [],
   "source": []
  },
  {
   "cell_type": "markdown",
   "id": "34c8a700-6a7f-4cb0-be47-d556b6f09f5d",
   "metadata": {},
   "source": [
    "Question 76: Provide examples of feature engineering techniques."
   ]
  },
  {
   "cell_type": "markdown",
   "id": "7093b11b-a488-4e7f-9897-7b46f32a59bb",
   "metadata": {},
   "source": [
    "Examples:\n",
    "\n",
    "Polynomial Features: Creating interaction terms between features.\n",
    "Binning: Grouping continuous variables into categories.\n",
    "Date-Time Features: Extracting day of week, month, or other temporal information.\n",
    "Text Feature Extraction: Using TF-IDF or word embeddings for text data."
   ]
  },
  {
   "cell_type": "code",
   "execution_count": 211,
   "id": "b8e4735a-1b1e-463d-b6a0-8415145775c2",
   "metadata": {},
   "outputs": [
    {
     "name": "stdout",
     "output_type": "stream",
     "text": [
      "Original numerical data:\n",
      "[[1.1]\n",
      " [2.3]\n",
      " [3.6]\n",
      " [4.8]]\n",
      "\n",
      "Binned data:\n",
      "[[0.]\n",
      " [0.]\n",
      " [2.]\n",
      " [2.]]\n"
     ]
    },
    {
     "name": "stderr",
     "output_type": "stream",
     "text": [
      "/opt/anaconda3/lib/python3.12/site-packages/sklearn/preprocessing/_discretization.py:248: FutureWarning: In version 1.5 onwards, subsample=200_000 will be used by default. Set subsample explicitly to silence this warning in the mean time. Set subsample=None to disable subsampling explicitly.\n",
      "  warnings.warn(\n"
     ]
    }
   ],
   "source": [
    "import numpy as np\n",
    "from sklearn.preprocessing import KBinsDiscretizer\n",
    "\n",
    "X = np.array([[1.1], [2.3], [3.6], [4.8]])\n",
    "\n",
    "est = KBinsDiscretizer(n_bins=3, encode='ordinal', strategy='uniform')\n",
    "X_binned = est.fit_transform(X)\n",
    "\n",
    "print(\"Original numerical data:\")\n",
    "print(X)\n",
    "print(\"\\nBinned data:\")\n",
    "print(X_binned)\n"
   ]
  },
  {
   "cell_type": "code",
   "execution_count": null,
   "id": "d8c8229b-c06f-4a06-a496-c04b3237904d",
   "metadata": {},
   "outputs": [],
   "source": []
  },
  {
   "cell_type": "markdown",
   "id": "1fec4fc7-9122-459c-b886-db8930b5417e",
   "metadata": {},
   "source": [
    "Question 77: How does feature selection differ from feature engineering?"
   ]
  },
  {
   "cell_type": "markdown",
   "id": "a10af719-dfe9-4b18-86e0-8c91fad57faf",
   "metadata": {},
   "source": [
    "Feature Selection: Involves choosing the most relevant features from the dataset to build the model.\n",
    "\n",
    "Feature Engineering: Involves creating new features or transforming existing ones to improve model performance.\n",
    "\n"
   ]
  },
  {
   "cell_type": "code",
   "execution_count": 183,
   "id": "985c7311-b022-4ee9-b64f-1d62c0c5623e",
   "metadata": {},
   "outputs": [
    {
     "name": "stdout",
     "output_type": "stream",
     "text": [
      "Selected features using SelectKBest:\n",
      "(150, 2)\n"
     ]
    }
   ],
   "source": [
    "from sklearn.datasets import load_iris\n",
    "from sklearn.feature_selection import SelectKBest, f_classif\n",
    "\n",
    "iris = load_iris()\n",
    "X, y = iris.data, iris.target\n",
    "\n",
    "selector = SelectKBest(score_func=f_classif, k=2)\n",
    "X_selected = selector.fit_transform(X, y)\n",
    "\n",
    "print(\"Selected features using SelectKBest:\")\n",
    "print(X_selected.shape)\n"
   ]
  },
  {
   "cell_type": "code",
   "execution_count": null,
   "id": "a32a5059-4c12-4ec2-bbf0-9d30f587b1d7",
   "metadata": {},
   "outputs": [],
   "source": []
  },
  {
   "cell_type": "markdown",
   "id": "6f47f269-e314-44ee-89f2-5ee4baf7e80b",
   "metadata": {},
   "source": [
    "Question 78: Explain the importance of feature selection in machine learning pipelines."
   ]
  },
  {
   "cell_type": "markdown",
   "id": "36a999b9-c503-46da-9260-340e820c82a3",
   "metadata": {},
   "source": [
    "Importance:\n",
    "\n",
    "Reduces overfitting by selecting only the most relevant features.\n",
    "Speeds up training and inference times.\n",
    "Improves model interpretability by focusing on the most impactful features."
   ]
  },
  {
   "cell_type": "code",
   "execution_count": 181,
   "id": "f53c1c10-cecf-487a-b030-17658ffb4add",
   "metadata": {},
   "outputs": [
    {
     "data": {
      "text/html": [
       "<style>#sk-container-id-2 {\n",
       "  /* Definition of color scheme common for light and dark mode */\n",
       "  --sklearn-color-text: black;\n",
       "  --sklearn-color-line: gray;\n",
       "  /* Definition of color scheme for unfitted estimators */\n",
       "  --sklearn-color-unfitted-level-0: #fff5e6;\n",
       "  --sklearn-color-unfitted-level-1: #f6e4d2;\n",
       "  --sklearn-color-unfitted-level-2: #ffe0b3;\n",
       "  --sklearn-color-unfitted-level-3: chocolate;\n",
       "  /* Definition of color scheme for fitted estimators */\n",
       "  --sklearn-color-fitted-level-0: #f0f8ff;\n",
       "  --sklearn-color-fitted-level-1: #d4ebff;\n",
       "  --sklearn-color-fitted-level-2: #b3dbfd;\n",
       "  --sklearn-color-fitted-level-3: cornflowerblue;\n",
       "\n",
       "  /* Specific color for light theme */\n",
       "  --sklearn-color-text-on-default-background: var(--sg-text-color, var(--theme-code-foreground, var(--jp-content-font-color1, black)));\n",
       "  --sklearn-color-background: var(--sg-background-color, var(--theme-background, var(--jp-layout-color0, white)));\n",
       "  --sklearn-color-border-box: var(--sg-text-color, var(--theme-code-foreground, var(--jp-content-font-color1, black)));\n",
       "  --sklearn-color-icon: #696969;\n",
       "\n",
       "  @media (prefers-color-scheme: dark) {\n",
       "    /* Redefinition of color scheme for dark theme */\n",
       "    --sklearn-color-text-on-default-background: var(--sg-text-color, var(--theme-code-foreground, var(--jp-content-font-color1, white)));\n",
       "    --sklearn-color-background: var(--sg-background-color, var(--theme-background, var(--jp-layout-color0, #111)));\n",
       "    --sklearn-color-border-box: var(--sg-text-color, var(--theme-code-foreground, var(--jp-content-font-color1, white)));\n",
       "    --sklearn-color-icon: #878787;\n",
       "  }\n",
       "}\n",
       "\n",
       "#sk-container-id-2 {\n",
       "  color: var(--sklearn-color-text);\n",
       "}\n",
       "\n",
       "#sk-container-id-2 pre {\n",
       "  padding: 0;\n",
       "}\n",
       "\n",
       "#sk-container-id-2 input.sk-hidden--visually {\n",
       "  border: 0;\n",
       "  clip: rect(1px 1px 1px 1px);\n",
       "  clip: rect(1px, 1px, 1px, 1px);\n",
       "  height: 1px;\n",
       "  margin: -1px;\n",
       "  overflow: hidden;\n",
       "  padding: 0;\n",
       "  position: absolute;\n",
       "  width: 1px;\n",
       "}\n",
       "\n",
       "#sk-container-id-2 div.sk-dashed-wrapped {\n",
       "  border: 1px dashed var(--sklearn-color-line);\n",
       "  margin: 0 0.4em 0.5em 0.4em;\n",
       "  box-sizing: border-box;\n",
       "  padding-bottom: 0.4em;\n",
       "  background-color: var(--sklearn-color-background);\n",
       "}\n",
       "\n",
       "#sk-container-id-2 div.sk-container {\n",
       "  /* jupyter's `normalize.less` sets `[hidden] { display: none; }`\n",
       "     but bootstrap.min.css set `[hidden] { display: none !important; }`\n",
       "     so we also need the `!important` here to be able to override the\n",
       "     default hidden behavior on the sphinx rendered scikit-learn.org.\n",
       "     See: https://github.com/scikit-learn/scikit-learn/issues/21755 */\n",
       "  display: inline-block !important;\n",
       "  position: relative;\n",
       "}\n",
       "\n",
       "#sk-container-id-2 div.sk-text-repr-fallback {\n",
       "  display: none;\n",
       "}\n",
       "\n",
       "div.sk-parallel-item,\n",
       "div.sk-serial,\n",
       "div.sk-item {\n",
       "  /* draw centered vertical line to link estimators */\n",
       "  background-image: linear-gradient(var(--sklearn-color-text-on-default-background), var(--sklearn-color-text-on-default-background));\n",
       "  background-size: 2px 100%;\n",
       "  background-repeat: no-repeat;\n",
       "  background-position: center center;\n",
       "}\n",
       "\n",
       "/* Parallel-specific style estimator block */\n",
       "\n",
       "#sk-container-id-2 div.sk-parallel-item::after {\n",
       "  content: \"\";\n",
       "  width: 100%;\n",
       "  border-bottom: 2px solid var(--sklearn-color-text-on-default-background);\n",
       "  flex-grow: 1;\n",
       "}\n",
       "\n",
       "#sk-container-id-2 div.sk-parallel {\n",
       "  display: flex;\n",
       "  align-items: stretch;\n",
       "  justify-content: center;\n",
       "  background-color: var(--sklearn-color-background);\n",
       "  position: relative;\n",
       "}\n",
       "\n",
       "#sk-container-id-2 div.sk-parallel-item {\n",
       "  display: flex;\n",
       "  flex-direction: column;\n",
       "}\n",
       "\n",
       "#sk-container-id-2 div.sk-parallel-item:first-child::after {\n",
       "  align-self: flex-end;\n",
       "  width: 50%;\n",
       "}\n",
       "\n",
       "#sk-container-id-2 div.sk-parallel-item:last-child::after {\n",
       "  align-self: flex-start;\n",
       "  width: 50%;\n",
       "}\n",
       "\n",
       "#sk-container-id-2 div.sk-parallel-item:only-child::after {\n",
       "  width: 0;\n",
       "}\n",
       "\n",
       "/* Serial-specific style estimator block */\n",
       "\n",
       "#sk-container-id-2 div.sk-serial {\n",
       "  display: flex;\n",
       "  flex-direction: column;\n",
       "  align-items: center;\n",
       "  background-color: var(--sklearn-color-background);\n",
       "  padding-right: 1em;\n",
       "  padding-left: 1em;\n",
       "}\n",
       "\n",
       "\n",
       "/* Toggleable style: style used for estimator/Pipeline/ColumnTransformer box that is\n",
       "clickable and can be expanded/collapsed.\n",
       "- Pipeline and ColumnTransformer use this feature and define the default style\n",
       "- Estimators will overwrite some part of the style using the `sk-estimator` class\n",
       "*/\n",
       "\n",
       "/* Pipeline and ColumnTransformer style (default) */\n",
       "\n",
       "#sk-container-id-2 div.sk-toggleable {\n",
       "  /* Default theme specific background. It is overwritten whether we have a\n",
       "  specific estimator or a Pipeline/ColumnTransformer */\n",
       "  background-color: var(--sklearn-color-background);\n",
       "}\n",
       "\n",
       "/* Toggleable label */\n",
       "#sk-container-id-2 label.sk-toggleable__label {\n",
       "  cursor: pointer;\n",
       "  display: block;\n",
       "  width: 100%;\n",
       "  margin-bottom: 0;\n",
       "  padding: 0.5em;\n",
       "  box-sizing: border-box;\n",
       "  text-align: center;\n",
       "}\n",
       "\n",
       "#sk-container-id-2 label.sk-toggleable__label-arrow:before {\n",
       "  /* Arrow on the left of the label */\n",
       "  content: \"▸\";\n",
       "  float: left;\n",
       "  margin-right: 0.25em;\n",
       "  color: var(--sklearn-color-icon);\n",
       "}\n",
       "\n",
       "#sk-container-id-2 label.sk-toggleable__label-arrow:hover:before {\n",
       "  color: var(--sklearn-color-text);\n",
       "}\n",
       "\n",
       "/* Toggleable content - dropdown */\n",
       "\n",
       "#sk-container-id-2 div.sk-toggleable__content {\n",
       "  max-height: 0;\n",
       "  max-width: 0;\n",
       "  overflow: hidden;\n",
       "  text-align: left;\n",
       "  /* unfitted */\n",
       "  background-color: var(--sklearn-color-unfitted-level-0);\n",
       "}\n",
       "\n",
       "#sk-container-id-2 div.sk-toggleable__content.fitted {\n",
       "  /* fitted */\n",
       "  background-color: var(--sklearn-color-fitted-level-0);\n",
       "}\n",
       "\n",
       "#sk-container-id-2 div.sk-toggleable__content pre {\n",
       "  margin: 0.2em;\n",
       "  border-radius: 0.25em;\n",
       "  color: var(--sklearn-color-text);\n",
       "  /* unfitted */\n",
       "  background-color: var(--sklearn-color-unfitted-level-0);\n",
       "}\n",
       "\n",
       "#sk-container-id-2 div.sk-toggleable__content.fitted pre {\n",
       "  /* unfitted */\n",
       "  background-color: var(--sklearn-color-fitted-level-0);\n",
       "}\n",
       "\n",
       "#sk-container-id-2 input.sk-toggleable__control:checked~div.sk-toggleable__content {\n",
       "  /* Expand drop-down */\n",
       "  max-height: 200px;\n",
       "  max-width: 100%;\n",
       "  overflow: auto;\n",
       "}\n",
       "\n",
       "#sk-container-id-2 input.sk-toggleable__control:checked~label.sk-toggleable__label-arrow:before {\n",
       "  content: \"▾\";\n",
       "}\n",
       "\n",
       "/* Pipeline/ColumnTransformer-specific style */\n",
       "\n",
       "#sk-container-id-2 div.sk-label input.sk-toggleable__control:checked~label.sk-toggleable__label {\n",
       "  color: var(--sklearn-color-text);\n",
       "  background-color: var(--sklearn-color-unfitted-level-2);\n",
       "}\n",
       "\n",
       "#sk-container-id-2 div.sk-label.fitted input.sk-toggleable__control:checked~label.sk-toggleable__label {\n",
       "  background-color: var(--sklearn-color-fitted-level-2);\n",
       "}\n",
       "\n",
       "/* Estimator-specific style */\n",
       "\n",
       "/* Colorize estimator box */\n",
       "#sk-container-id-2 div.sk-estimator input.sk-toggleable__control:checked~label.sk-toggleable__label {\n",
       "  /* unfitted */\n",
       "  background-color: var(--sklearn-color-unfitted-level-2);\n",
       "}\n",
       "\n",
       "#sk-container-id-2 div.sk-estimator.fitted input.sk-toggleable__control:checked~label.sk-toggleable__label {\n",
       "  /* fitted */\n",
       "  background-color: var(--sklearn-color-fitted-level-2);\n",
       "}\n",
       "\n",
       "#sk-container-id-2 div.sk-label label.sk-toggleable__label,\n",
       "#sk-container-id-2 div.sk-label label {\n",
       "  /* The background is the default theme color */\n",
       "  color: var(--sklearn-color-text-on-default-background);\n",
       "}\n",
       "\n",
       "/* On hover, darken the color of the background */\n",
       "#sk-container-id-2 div.sk-label:hover label.sk-toggleable__label {\n",
       "  color: var(--sklearn-color-text);\n",
       "  background-color: var(--sklearn-color-unfitted-level-2);\n",
       "}\n",
       "\n",
       "/* Label box, darken color on hover, fitted */\n",
       "#sk-container-id-2 div.sk-label.fitted:hover label.sk-toggleable__label.fitted {\n",
       "  color: var(--sklearn-color-text);\n",
       "  background-color: var(--sklearn-color-fitted-level-2);\n",
       "}\n",
       "\n",
       "/* Estimator label */\n",
       "\n",
       "#sk-container-id-2 div.sk-label label {\n",
       "  font-family: monospace;\n",
       "  font-weight: bold;\n",
       "  display: inline-block;\n",
       "  line-height: 1.2em;\n",
       "}\n",
       "\n",
       "#sk-container-id-2 div.sk-label-container {\n",
       "  text-align: center;\n",
       "}\n",
       "\n",
       "/* Estimator-specific */\n",
       "#sk-container-id-2 div.sk-estimator {\n",
       "  font-family: monospace;\n",
       "  border: 1px dotted var(--sklearn-color-border-box);\n",
       "  border-radius: 0.25em;\n",
       "  box-sizing: border-box;\n",
       "  margin-bottom: 0.5em;\n",
       "  /* unfitted */\n",
       "  background-color: var(--sklearn-color-unfitted-level-0);\n",
       "}\n",
       "\n",
       "#sk-container-id-2 div.sk-estimator.fitted {\n",
       "  /* fitted */\n",
       "  background-color: var(--sklearn-color-fitted-level-0);\n",
       "}\n",
       "\n",
       "/* on hover */\n",
       "#sk-container-id-2 div.sk-estimator:hover {\n",
       "  /* unfitted */\n",
       "  background-color: var(--sklearn-color-unfitted-level-2);\n",
       "}\n",
       "\n",
       "#sk-container-id-2 div.sk-estimator.fitted:hover {\n",
       "  /* fitted */\n",
       "  background-color: var(--sklearn-color-fitted-level-2);\n",
       "}\n",
       "\n",
       "/* Specification for estimator info (e.g. \"i\" and \"?\") */\n",
       "\n",
       "/* Common style for \"i\" and \"?\" */\n",
       "\n",
       ".sk-estimator-doc-link,\n",
       "a:link.sk-estimator-doc-link,\n",
       "a:visited.sk-estimator-doc-link {\n",
       "  float: right;\n",
       "  font-size: smaller;\n",
       "  line-height: 1em;\n",
       "  font-family: monospace;\n",
       "  background-color: var(--sklearn-color-background);\n",
       "  border-radius: 1em;\n",
       "  height: 1em;\n",
       "  width: 1em;\n",
       "  text-decoration: none !important;\n",
       "  margin-left: 1ex;\n",
       "  /* unfitted */\n",
       "  border: var(--sklearn-color-unfitted-level-1) 1pt solid;\n",
       "  color: var(--sklearn-color-unfitted-level-1);\n",
       "}\n",
       "\n",
       ".sk-estimator-doc-link.fitted,\n",
       "a:link.sk-estimator-doc-link.fitted,\n",
       "a:visited.sk-estimator-doc-link.fitted {\n",
       "  /* fitted */\n",
       "  border: var(--sklearn-color-fitted-level-1) 1pt solid;\n",
       "  color: var(--sklearn-color-fitted-level-1);\n",
       "}\n",
       "\n",
       "/* On hover */\n",
       "div.sk-estimator:hover .sk-estimator-doc-link:hover,\n",
       ".sk-estimator-doc-link:hover,\n",
       "div.sk-label-container:hover .sk-estimator-doc-link:hover,\n",
       ".sk-estimator-doc-link:hover {\n",
       "  /* unfitted */\n",
       "  background-color: var(--sklearn-color-unfitted-level-3);\n",
       "  color: var(--sklearn-color-background);\n",
       "  text-decoration: none;\n",
       "}\n",
       "\n",
       "div.sk-estimator.fitted:hover .sk-estimator-doc-link.fitted:hover,\n",
       ".sk-estimator-doc-link.fitted:hover,\n",
       "div.sk-label-container:hover .sk-estimator-doc-link.fitted:hover,\n",
       ".sk-estimator-doc-link.fitted:hover {\n",
       "  /* fitted */\n",
       "  background-color: var(--sklearn-color-fitted-level-3);\n",
       "  color: var(--sklearn-color-background);\n",
       "  text-decoration: none;\n",
       "}\n",
       "\n",
       "/* Span, style for the box shown on hovering the info icon */\n",
       ".sk-estimator-doc-link span {\n",
       "  display: none;\n",
       "  z-index: 9999;\n",
       "  position: relative;\n",
       "  font-weight: normal;\n",
       "  right: .2ex;\n",
       "  padding: .5ex;\n",
       "  margin: .5ex;\n",
       "  width: min-content;\n",
       "  min-width: 20ex;\n",
       "  max-width: 50ex;\n",
       "  color: var(--sklearn-color-text);\n",
       "  box-shadow: 2pt 2pt 4pt #999;\n",
       "  /* unfitted */\n",
       "  background: var(--sklearn-color-unfitted-level-0);\n",
       "  border: .5pt solid var(--sklearn-color-unfitted-level-3);\n",
       "}\n",
       "\n",
       ".sk-estimator-doc-link.fitted span {\n",
       "  /* fitted */\n",
       "  background: var(--sklearn-color-fitted-level-0);\n",
       "  border: var(--sklearn-color-fitted-level-3);\n",
       "}\n",
       "\n",
       ".sk-estimator-doc-link:hover span {\n",
       "  display: block;\n",
       "}\n",
       "\n",
       "/* \"?\"-specific style due to the `<a>` HTML tag */\n",
       "\n",
       "#sk-container-id-2 a.estimator_doc_link {\n",
       "  float: right;\n",
       "  font-size: 1rem;\n",
       "  line-height: 1em;\n",
       "  font-family: monospace;\n",
       "  background-color: var(--sklearn-color-background);\n",
       "  border-radius: 1rem;\n",
       "  height: 1rem;\n",
       "  width: 1rem;\n",
       "  text-decoration: none;\n",
       "  /* unfitted */\n",
       "  color: var(--sklearn-color-unfitted-level-1);\n",
       "  border: var(--sklearn-color-unfitted-level-1) 1pt solid;\n",
       "}\n",
       "\n",
       "#sk-container-id-2 a.estimator_doc_link.fitted {\n",
       "  /* fitted */\n",
       "  border: var(--sklearn-color-fitted-level-1) 1pt solid;\n",
       "  color: var(--sklearn-color-fitted-level-1);\n",
       "}\n",
       "\n",
       "/* On hover */\n",
       "#sk-container-id-2 a.estimator_doc_link:hover {\n",
       "  /* unfitted */\n",
       "  background-color: var(--sklearn-color-unfitted-level-3);\n",
       "  color: var(--sklearn-color-background);\n",
       "  text-decoration: none;\n",
       "}\n",
       "\n",
       "#sk-container-id-2 a.estimator_doc_link.fitted:hover {\n",
       "  /* fitted */\n",
       "  background-color: var(--sklearn-color-fitted-level-3);\n",
       "}\n",
       "</style><div id=\"sk-container-id-2\" class=\"sk-top-container\"><div class=\"sk-text-repr-fallback\"><pre>Pipeline(steps=[(&#x27;feature_selection&#x27;,\n",
       "                 SelectFromModel(estimator=RandomForestClassifier())),\n",
       "                (&#x27;classification&#x27;, RandomForestClassifier())])</pre><b>In a Jupyter environment, please rerun this cell to show the HTML representation or trust the notebook. <br />On GitHub, the HTML representation is unable to render, please try loading this page with nbviewer.org.</b></div><div class=\"sk-container\" hidden><div class=\"sk-item sk-dashed-wrapped\"><div class=\"sk-label-container\"><div class=\"sk-label fitted sk-toggleable\"><input class=\"sk-toggleable__control sk-hidden--visually\" id=\"sk-estimator-id-6\" type=\"checkbox\" ><label for=\"sk-estimator-id-6\" class=\"sk-toggleable__label fitted sk-toggleable__label-arrow fitted\">&nbsp;&nbsp;Pipeline<a class=\"sk-estimator-doc-link fitted\" rel=\"noreferrer\" target=\"_blank\" href=\"https://scikit-learn.org/1.4/modules/generated/sklearn.pipeline.Pipeline.html\">?<span>Documentation for Pipeline</span></a><span class=\"sk-estimator-doc-link fitted\">i<span>Fitted</span></span></label><div class=\"sk-toggleable__content fitted\"><pre>Pipeline(steps=[(&#x27;feature_selection&#x27;,\n",
       "                 SelectFromModel(estimator=RandomForestClassifier())),\n",
       "                (&#x27;classification&#x27;, RandomForestClassifier())])</pre></div> </div></div><div class=\"sk-serial\"><div class=\"sk-item sk-dashed-wrapped\"><div class=\"sk-label-container\"><div class=\"sk-label fitted sk-toggleable\"><input class=\"sk-toggleable__control sk-hidden--visually\" id=\"sk-estimator-id-7\" type=\"checkbox\" ><label for=\"sk-estimator-id-7\" class=\"sk-toggleable__label fitted sk-toggleable__label-arrow fitted\">&nbsp;feature_selection: SelectFromModel<a class=\"sk-estimator-doc-link fitted\" rel=\"noreferrer\" target=\"_blank\" href=\"https://scikit-learn.org/1.4/modules/generated/sklearn.feature_selection.SelectFromModel.html\">?<span>Documentation for feature_selection: SelectFromModel</span></a></label><div class=\"sk-toggleable__content fitted\"><pre>SelectFromModel(estimator=RandomForestClassifier())</pre></div> </div></div><div class=\"sk-parallel\"><div class=\"sk-parallel-item\"><div class=\"sk-item\"><div class=\"sk-label-container\"><div class=\"sk-label fitted sk-toggleable\"><input class=\"sk-toggleable__control sk-hidden--visually\" id=\"sk-estimator-id-8\" type=\"checkbox\" ><label for=\"sk-estimator-id-8\" class=\"sk-toggleable__label fitted sk-toggleable__label-arrow fitted\">estimator: RandomForestClassifier</label><div class=\"sk-toggleable__content fitted\"><pre>RandomForestClassifier()</pre></div> </div></div><div class=\"sk-serial\"><div class=\"sk-item\"><div class=\"sk-estimator fitted sk-toggleable\"><input class=\"sk-toggleable__control sk-hidden--visually\" id=\"sk-estimator-id-9\" type=\"checkbox\" ><label for=\"sk-estimator-id-9\" class=\"sk-toggleable__label fitted sk-toggleable__label-arrow fitted\">&nbsp;RandomForestClassifier<a class=\"sk-estimator-doc-link fitted\" rel=\"noreferrer\" target=\"_blank\" href=\"https://scikit-learn.org/1.4/modules/generated/sklearn.ensemble.RandomForestClassifier.html\">?<span>Documentation for RandomForestClassifier</span></a></label><div class=\"sk-toggleable__content fitted\"><pre>RandomForestClassifier()</pre></div> </div></div></div></div></div></div></div><div class=\"sk-item\"><div class=\"sk-estimator fitted sk-toggleable\"><input class=\"sk-toggleable__control sk-hidden--visually\" id=\"sk-estimator-id-10\" type=\"checkbox\" ><label for=\"sk-estimator-id-10\" class=\"sk-toggleable__label fitted sk-toggleable__label-arrow fitted\">&nbsp;RandomForestClassifier<a class=\"sk-estimator-doc-link fitted\" rel=\"noreferrer\" target=\"_blank\" href=\"https://scikit-learn.org/1.4/modules/generated/sklearn.ensemble.RandomForestClassifier.html\">?<span>Documentation for RandomForestClassifier</span></a></label><div class=\"sk-toggleable__content fitted\"><pre>RandomForestClassifier()</pre></div> </div></div></div></div></div></div>"
      ],
      "text/plain": [
       "Pipeline(steps=[('feature_selection',\n",
       "                 SelectFromModel(estimator=RandomForestClassifier())),\n",
       "                ('classification', RandomForestClassifier())])"
      ]
     },
     "execution_count": 181,
     "metadata": {},
     "output_type": "execute_result"
    }
   ],
   "source": [
    "from sklearn.pipeline import Pipeline\n",
    "from sklearn.ensemble import RandomForestClassifier\n",
    "from sklearn.feature_selection import SelectFromModel\n",
    "\n",
    "pipeline = Pipeline([\n",
    "    ('feature_selection', SelectFromModel(RandomForestClassifier())),\n",
    "    ('classification', RandomForestClassifier())\n",
    "])\n",
    "\n",
    "pipeline.fit(X, y)\n"
   ]
  },
  {
   "cell_type": "code",
   "execution_count": null,
   "id": "bf85d932-afad-4262-a6b9-7d8f7cef21e3",
   "metadata": {},
   "outputs": [],
   "source": []
  },
  {
   "cell_type": "markdown",
   "id": "37370b18-3969-48d4-b930-664432b9ccc0",
   "metadata": {},
   "source": [
    "Question 79: Discuss the impact of feature selection on model performance."
   ]
  },
  {
   "cell_type": "markdown",
   "id": "967a2d52-f519-4f27-9d9c-222ccb2a218f",
   "metadata": {},
   "source": [
    "Impact:\n",
    "\n",
    "Positive: Improves model accuracy and generalization by reducing noise from irrelevant features.\n",
    "Negative: If not done correctly, can lead to underfitting or loss of important information."
   ]
  },
  {
   "cell_type": "code",
   "execution_count": 179,
   "id": "75eb114b-6f9f-4cc3-919a-cffa078be381",
   "metadata": {},
   "outputs": [
    {
     "name": "stdout",
     "output_type": "stream",
     "text": [
      "Mean accuracy without feature selection: 0.9733333333333334\n",
      "Mean accuracy with feature selection: 0.96\n"
     ]
    }
   ],
   "source": [
    "from sklearn.model_selection import cross_val_score\n",
    "from sklearn.linear_model import LogisticRegression\n",
    "\n",
    "X = iris.data\n",
    "y = iris.target\n",
    "\n",
    "model = LogisticRegression(max_iter=1000)\n",
    "scores = cross_val_score(model, X, y, cv=5)\n",
    "print(f\"Mean accuracy without feature selection: {scores.mean()}\")\n",
    "\n",
    "selector = SelectFromModel(RandomForestClassifier())\n",
    "X_selected = selector.fit_transform(X, y)\n",
    "scores_selected = cross_val_score(model, X_selected, y, cv=5)\n",
    "print(f\"Mean accuracy with feature selection: {scores_selected.mean()}\")\n"
   ]
  },
  {
   "cell_type": "code",
   "execution_count": null,
   "id": "0b476d3a-96a3-42bf-b792-89ce50643731",
   "metadata": {},
   "outputs": [],
   "source": []
  },
  {
   "cell_type": "markdown",
   "id": "f6bb7629-f4dc-48c8-8837-3e190d1d0f7e",
   "metadata": {},
   "source": [
    "Question 80: How do you determine which features to include in a machine-learning model?"
   ]
  },
  {
   "cell_type": "markdown",
   "id": "e3050437-73cb-4a3b-917b-b6d86e37bbaa",
   "metadata": {},
   "source": [
    "Methods:\n",
    "\n",
    "Filter Methods: Based on statistical measures like correlation, chi-squared, or mutual information.\n",
    "Wrapper Methods: Use a predictive model to evaluate the importance of features.\n",
    "Embedded Methods: Feature selection is integrated into the model training process (e.g., Lasso regression, Random Forest feature importance).\n",
    "Choosing the right method depends on the dataset size, complexity, and specific requirements of the machine learning task."
   ]
  },
  {
   "cell_type": "code",
   "execution_count": 177,
   "id": "04a028ce-6e81-4bad-a556-aefa98f3a9a7",
   "metadata": {},
   "outputs": [
    {
     "name": "stdout",
     "output_type": "stream",
     "text": [
      "Feature Importances:\n",
      "Feature 0: 0.09964032003930655\n",
      "Feature 1: 0.023529341663067218\n",
      "Feature 2: 0.3985512529443518\n",
      "Feature 3: 0.4782790853532745\n"
     ]
    }
   ],
   "source": [
    "from sklearn.ensemble import RandomForestClassifier\n",
    "\n",
    "model = RandomForestClassifier()\n",
    "model.fit(X, y)\n",
    "\n",
    "feature_importances = model.feature_importances_\n",
    "\n",
    "print(\"Feature Importances:\")\n",
    "for i, importance in enumerate(feature_importances):\n",
    "    print(f\"Feature {i}: {importance}\")\n",
    "\n"
   ]
  },
  {
   "cell_type": "code",
   "execution_count": null,
   "id": "d21490fc-8d02-41fe-bcd7-f8db17012d1b",
   "metadata": {},
   "outputs": [],
   "source": []
  }
 ],
 "metadata": {
  "kernelspec": {
   "display_name": "Python 3 (ipykernel)",
   "language": "python",
   "name": "python3"
  },
  "language_info": {
   "codemirror_mode": {
    "name": "ipython",
    "version": 3
   },
   "file_extension": ".py",
   "mimetype": "text/x-python",
   "name": "python",
   "nbconvert_exporter": "python",
   "pygments_lexer": "ipython3",
   "version": "3.12.4"
  }
 },
 "nbformat": 4,
 "nbformat_minor": 5
}
